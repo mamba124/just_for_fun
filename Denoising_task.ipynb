{
  "nbformat": 4,
  "nbformat_minor": 0,
  "metadata": {
    "colab": {
      "name": "Denoising task",
      "provenance": [],
      "collapsed_sections": [],
      "machine_shape": "hm",
      "mount_file_id": "16HMTezUDuScumdwB4uDvVlxs9gKpT6uO",
      "authorship_tag": "ABX9TyMBw3G8p89d4fdsqdkWXT0K",
      "include_colab_link": true
    },
    "kernelspec": {
      "name": "python3",
      "display_name": "Python 3"
    },
    "accelerator": "TPU"
  },
  "cells": [
    {
      "cell_type": "markdown",
      "metadata": {
        "id": "view-in-github",
        "colab_type": "text"
      },
      "source": [
        "<a href=\"https://colab.research.google.com/github/mamba124/just_for_fun/blob/master/Denoising_task.ipynb\" target=\"_parent\"><img src=\"https://colab.research.google.com/assets/colab-badge.svg\" alt=\"Open In Colab\"/></a>"
      ]
    },
    {
      "cell_type": "code",
      "metadata": {
        "id": "0hyWYiPqLdez",
        "colab_type": "code",
        "colab": {}
      },
      "source": [
        "import tensorflow.keras.layers as layers\n",
        "import tensorflow.keras.optimizers as optimizers\n",
        "from tensorflow.keras import utils \n",
        "from tensorflow.keras.preprocessing import image \n",
        "import numpy as np \n",
        "import os \n",
        "import pandas as pd \n",
        "from tensorflow.keras.models import Model, load_model #из кераса подгружаем абстрактный класс базовой модели, метод загрузки предобученной модели"
      ],
      "execution_count": 0,
      "outputs": []
    },
    {
      "cell_type": "code",
      "metadata": {
        "id": "9cmARWGSkhw5",
        "colab_type": "code",
        "colab": {}
      },
      "source": [
        "st = '/content/drive/My Drive/train/clean/47/47_122796_47-122796-0071 (1).npy'\n",
        "stop = st[-7:]"
      ],
      "execution_count": 0,
      "outputs": []
    },
    {
      "cell_type": "code",
      "metadata": {
        "id": "g957MMEVcEQn",
        "colab_type": "code",
        "colab": {}
      },
      "source": [
        "def get_chunks(signal, length, step):\n",
        "  batch =[]\n",
        "  syms_len = len(signal)\n",
        "  index = 0\n",
        "  \n",
        "  while (index + length <= syms_len):\n",
        "    batch.append(signal[index:index+length])\n",
        "    index += step\n",
        "\n",
        "  return batch\n",
        "\n",
        "def prepare_chunks(audio,length, step):\n",
        "  batch_list = get_chunks(audio, length, step)\n",
        "  return np.array(batch_list)"
      ],
      "execution_count": 0,
      "outputs": []
    },
    {
      "cell_type": "code",
      "metadata": {
        "id": "gD6WaJitJFgj",
        "colab_type": "code",
        "colab": {}
      },
      "source": [
        "directory = '/content/drive/My Drive/train/'\n",
        "folders = os.listdir(directory)\n",
        "clean_arrays = []\n",
        "noisy_arrays = []\n",
        "patch = os.listdir(directory+'clean/')\n",
        "\n",
        "for folder in patch:\n",
        "  for arr in os.listdir(directory+'clean/'+folder):\n",
        "    if arr[-7:]!=stop:\n",
        "      clean_arrays.append(np.load(directory+'clean/'+folder+'/'+arr))\n",
        "      noisy_arrays.append(np.load(directory+'noisy/'+folder+'/'+arr))\n",
        "\n"
      ],
      "execution_count": 0,
      "outputs": []
    },
    {
      "cell_type": "code",
      "metadata": {
        "id": "jjkBQJaCw_oL",
        "colab_type": "code",
        "colab": {}
      },
      "source": [
        "clean_arrays_ = []\n",
        "noisy_arrays_ = []\n",
        "\n",
        "for i in range(len(clean_arrays[:-1])):\n",
        "  for j in range(len(clean_arrays[i])):\n",
        "    clean_arrays_.append(clean_arrays[i][j])\n",
        "    noisy_arrays_.append(noisy_arrays[i][j])"
      ],
      "execution_count": 0,
      "outputs": []
    },
    {
      "cell_type": "code",
      "metadata": {
        "id": "47SaACdAictt",
        "colab_type": "code",
        "colab": {}
      },
      "source": [
        "length = 60 \n",
        "step = 30\n",
        "\n",
        "x_trainC = prepare_chunks(clean_arrays_, length, step)\n",
        "x_trainN = prepare_chunks(noisy_arrays_, length, step)\n",
        "\n",
        "y_trainC = np.ones((x_trainC.shape[0],1))\n",
        "y_trainN = np.zeros((x_trainN.shape[0],1))"
      ],
      "execution_count": 0,
      "outputs": []
    },
    {
      "cell_type": "code",
      "metadata": {
        "id": "ZDm1EtKtVhlv",
        "colab_type": "code",
        "colab": {}
      },
      "source": [
        "def shuffle(a, b):\n",
        "    p = np.random.permutation(len(a)) \n",
        "    return a[p], b[p] \n",
        "x_train = np.concatenate([x_trainC, x_trainN], axis = 0)\n",
        "y_train = np.concatenate([y_trainC, y_trainN], axis = 0)\n",
        "\n",
        "#x_val = np.concatenate([x_valC, x_valN], axis = 0)\n",
        "#y_val = np.concatenate([y_valC, y_valN], axis = 0)\n",
        "\n",
        "x_train_, y_train_ = shuffle(x_train, y_train)\n",
        "#x_val_, y_val_ = shuffle(x_val, y_val)"
      ],
      "execution_count": 0,
      "outputs": []
    },
    {
      "cell_type": "code",
      "metadata": {
        "id": "xkeN5CipkRlu",
        "colab_type": "code",
        "colab": {}
      },
      "source": [
        "def hybrid(vector):\n",
        "\n",
        "  inputs_vector = layers.Input(shape = (vector.shape[1],vector.shape[2]))\n",
        "\n",
        "  ##Classifier##\n",
        "  out_class = layers.BatchNormalization()(inputs_vector)\n",
        "  out_class= layers.Conv1D(64, 3,strides = 2, padding = 'same')(out_class)\n",
        "  out_class = layers.Flatten()(out_class)\n",
        "  out_class = layers.Dense(200, activation='elu')(out_class)\n",
        "  out_class = layers.Dense(100, activation='elu')(out_class)\n",
        "  out_class = layers.Dense(56, activation = 'relu')(out_class)\n",
        "  out_class = layers.Dense(1, activation = 'sigmoid')(out_class)\n",
        "  \n",
        "  ###Encoder###\n",
        "  ##Block1##\n",
        "  hidden = layers.Conv1D(4, 3, padding = 'same') (inputs_vector)\n",
        "  hidden = layers.Activation('tanh')(hidden)\n",
        " # hidden = layers.BatchNormalization()(hidden)\n",
        "\n",
        "  hidden = layers.Conv1D(4, 3, padding = 'same')(hidden)\n",
        "  hidden = layers.Activation('relu')(hidden)\n",
        " # hidden = layers.BatchNormalization()(hidden)\n",
        "\n",
        "  hidden = layers.MaxPooling1D(3)(hidden)\n",
        "\n",
        "  ##Block2##\n",
        "  hidden = layers.Conv1D(32, 3, padding = 'same') (hidden)\n",
        "  #hidden = layers.BatchNormalization()(hidden)\n",
        "  hidden = layers.Conv1D(32, 3, padding = 'same', strides = 2)(hidden)\n",
        "  hidden = layers.Activation('relu')(hidden)\n",
        " # hidden = layers.BatchNormalization()(hidden)\n",
        "  hidden = layers.MaxPooling1D(3)(hidden)\n",
        "  \n",
        "  ##Block3##\n",
        "  hidden = layers.Conv1D(128, 3, padding = 'same') (hidden)\n",
        "  #hidden = layers.BatchNormalization()(hidden)\n",
        "  hidden = layers.MaxPooling1D(3)(hidden)  \n",
        "  hidden = layers.Multiply()([1-out_class, hidden])\n",
        "  \n",
        "  ###Decoder###\n",
        "  ##UPBlock1##\n",
        "  hidden = layers.UpSampling1D(3)(hidden)\n",
        "  hidden = layers.Conv1D(128, 3, padding = 'same', activation= 'relu')(hidden)\n",
        "  hidden = layers.BatchNormalization()(hidden)\n",
        " # hidden = layers.Multiply()([out_class, hidden])\n",
        "\n",
        "  ##UPBlock2##\n",
        "  hidden = layers.UpSampling1D(4)(hidden)\n",
        "  hidden = layers.Conv1D(32, 3, padding = 'same', activation= 'tanh')(hidden)\n",
        "  hidden = layers.BatchNormalization()(hidden)\n",
        "  hidden = layers.Conv1D(32, 3, padding = 'same', activation= 'tanh')(hidden)\n",
        "  hidden = layers.BatchNormalization()(hidden)\n",
        " # hidden = layers.Multiply()([out_class, hidden])\n",
        "\n",
        "  ##UPblock3##\n",
        "  hidden = layers.UpSampling1D(5)(hidden)\n",
        "  hidden = layers.Conv1D(4, 3, padding = 'same',  activation= 'tanh')(hidden)\n",
        "  hidden = layers.BatchNormalization()(hidden)\n",
        "  hidden = layers.Conv1D(4, 3, padding = 'same',  activation= 'tanh')(hidden)\n",
        "  hidden = layers.BatchNormalization()(hidden)\n",
        "#  hidden = layers.Multiply()([out_class, hidden])\n",
        "\n",
        " #out = layers.Conv1D(80, 3, padding = 'same',  activation= 'tanh')(hidden)\n",
        "  hidden = layers.Flatten()(hidden)\n",
        "  hidden = layers.Dense(156, activation='relu')(hidden)\n",
        "  hidden = layers.Dense(256, activation='elu')(hidden)\n",
        "  out = layers.Dense(60*80, activation = 'tanh')(hidden)\n",
        "  out = layers.Reshape((60,80))(out)\n",
        "  modelD = Model(inputs=inputs_vector, outputs = [out, out_class])\n",
        "  #modelD.summary()\n",
        "\n",
        "  return modelD\n",
        "\n",
        "\n",
        "  "
      ],
      "execution_count": 0,
      "outputs": []
    },
    {
      "cell_type": "code",
      "metadata": {
        "id": "LJB_8QMVGLje",
        "colab_type": "code",
        "outputId": "12f9a339-898e-4b29-806a-3ab5a1640319",
        "colab": {
          "base_uri": "https://localhost:8080/",
          "height": 224
        }
      },
      "source": [
        "denoise = hybrid(x_train_)\n",
        "denoise.compile(optimizer = optimizers.Adam(), loss = ['mse','binary_crossentropy'], metrics = ['mse','accuracy'])\n",
        "denoise.fit(x_train_, [x_train_, y_train_], validation_split = 0.3, batch_size=500, epochs = 5)"
      ],
      "execution_count": 0,
      "outputs": [
        {
          "output_type": "stream",
          "text": [
            "Epoch 1/5\n",
            "115/115 [==============================] - 9s 81ms/step - loss: 0.4995 - conv1d_91_loss: 0.1899 - dense_51_loss: 0.3096 - conv1d_91_mse: 0.1903 - conv1d_91_accuracy: 0.0186 - dense_51_mse: 0.0950 - dense_51_accuracy: 0.8684 - val_loss: 1.0060 - val_conv1d_91_loss: 0.1269 - val_dense_51_loss: 0.8791 - val_conv1d_91_mse: 0.1269 - val_conv1d_91_accuracy: 0.0415 - val_dense_51_mse: 0.2465 - val_dense_51_accuracy: 0.6886\n",
            "Epoch 2/5\n",
            "115/115 [==============================] - 9s 77ms/step - loss: 0.2976 - conv1d_91_loss: 0.1002 - dense_51_loss: 0.1973 - conv1d_91_mse: 0.1003 - conv1d_91_accuracy: 0.0458 - dense_51_mse: 0.0582 - dense_51_accuracy: 0.9221 - val_loss: 0.6570 - val_conv1d_91_loss: 0.1147 - val_dense_51_loss: 0.5423 - val_conv1d_91_mse: 0.1147 - val_conv1d_91_accuracy: 0.0386 - val_dense_51_mse: 0.1441 - val_dense_51_accuracy: 0.8181\n",
            "Epoch 3/5\n",
            "115/115 [==============================] - 9s 77ms/step - loss: 0.2423 - conv1d_91_loss: 0.0799 - dense_51_loss: 0.1624 - conv1d_91_mse: 0.0799 - conv1d_91_accuracy: 0.0744 - dense_51_mse: 0.0469 - dense_51_accuracy: 0.9379 - val_loss: 0.3395 - val_conv1d_91_loss: 0.1398 - val_dense_51_loss: 0.1997 - val_conv1d_91_mse: 0.1398 - val_conv1d_91_accuracy: 0.0863 - val_dense_51_mse: 0.0577 - val_dense_51_accuracy: 0.9224\n",
            "Epoch 4/5\n",
            "115/115 [==============================] - 9s 78ms/step - loss: 0.2016 - conv1d_91_loss: 0.0717 - dense_51_loss: 0.1299 - conv1d_91_mse: 0.0717 - conv1d_91_accuracy: 0.0954 - dense_51_mse: 0.0371 - dense_51_accuracy: 0.9505 - val_loss: 0.3225 - val_conv1d_91_loss: 0.1041 - val_dense_51_loss: 0.2184 - val_conv1d_91_mse: 0.1041 - val_conv1d_91_accuracy: 0.0943 - val_dense_51_mse: 0.0615 - val_dense_51_accuracy: 0.9193\n",
            "Epoch 5/5\n",
            "115/115 [==============================] - 9s 77ms/step - loss: 0.1810 - conv1d_91_loss: 0.0696 - dense_51_loss: 0.1114 - conv1d_91_mse: 0.0696 - conv1d_91_accuracy: 0.0993 - dense_51_mse: 0.0317 - dense_51_accuracy: 0.9580 - val_loss: 0.2735 - val_conv1d_91_loss: 0.0917 - val_dense_51_loss: 0.1819 - val_conv1d_91_mse: 0.0917 - val_conv1d_91_accuracy: 0.0962 - val_dense_51_mse: 0.0523 - val_dense_51_accuracy: 0.9301\n"
          ],
          "name": "stdout"
        },
        {
          "output_type": "execute_result",
          "data": {
            "text/plain": [
              "<tensorflow.python.keras.callbacks.History at 0x7fcee71224e0>"
            ]
          },
          "metadata": {
            "tags": []
          },
          "execution_count": 53
        }
      ]
    },
    {
      "cell_type": "code",
      "metadata": {
        "id": "YVJJzU104LSd",
        "colab_type": "code",
        "outputId": "9597a123-11cd-43f4-bc33-fbd583dbabc6",
        "colab": {
          "base_uri": "https://localhost:8080/",
          "height": 734
        }
      },
      "source": [
        "denoise.compile(optimizer = optimizers.Adam(), loss = ['mse','binary_crossentropy'], metrics = ['mse','accuracy'])\n",
        "denoise.fit(x_train_, [x_train_, y_train_], validation_split = 0.1, batch_size=500, epochs = 20)"
      ],
      "execution_count": 0,
      "outputs": [
        {
          "output_type": "stream",
          "text": [
            "Epoch 1/20\n",
            "147/147 [==============================] - 11s 74ms/step - loss: 0.1878 - conv1d_91_loss: 0.0671 - dense_51_loss: 0.1207 - conv1d_91_mse: 0.0671 - conv1d_91_accuracy: 0.1057 - dense_51_mse: 0.0338 - dense_51_accuracy: 0.9560 - val_loss: 0.2804 - val_conv1d_91_loss: 0.0736 - val_dense_51_loss: 0.2068 - val_conv1d_91_mse: 0.0737 - val_conv1d_91_accuracy: 0.1015 - val_dense_51_mse: 0.0575 - val_dense_51_accuracy: 0.9271\n",
            "Epoch 2/20\n",
            "147/147 [==============================] - 11s 72ms/step - loss: 0.1605 - conv1d_91_loss: 0.0631 - dense_51_loss: 0.0974 - conv1d_91_mse: 0.0631 - conv1d_91_accuracy: 0.1075 - dense_51_mse: 0.0273 - dense_51_accuracy: 0.9641 - val_loss: 0.2544 - val_conv1d_91_loss: 0.0678 - val_dense_51_loss: 0.1866 - val_conv1d_91_mse: 0.0680 - val_conv1d_91_accuracy: 0.1011 - val_dense_51_mse: 0.0519 - val_dense_51_accuracy: 0.9334\n",
            "Epoch 3/20\n",
            "147/147 [==============================] - 11s 72ms/step - loss: 0.1378 - conv1d_91_loss: 0.0604 - dense_51_loss: 0.0775 - conv1d_91_mse: 0.0604 - conv1d_91_accuracy: 0.1095 - dense_51_mse: 0.0213 - dense_51_accuracy: 0.9723 - val_loss: 0.2675 - val_conv1d_91_loss: 0.0617 - val_dense_51_loss: 0.2058 - val_conv1d_91_mse: 0.0619 - val_conv1d_91_accuracy: 0.1072 - val_dense_51_mse: 0.0565 - val_dense_51_accuracy: 0.9280\n",
            "Epoch 4/20\n",
            "147/147 [==============================] - 11s 73ms/step - loss: 0.1299 - conv1d_91_loss: 0.0589 - dense_51_loss: 0.0711 - conv1d_91_mse: 0.0589 - conv1d_91_accuracy: 0.1108 - dense_51_mse: 0.0196 - dense_51_accuracy: 0.9743 - val_loss: 0.2646 - val_conv1d_91_loss: 0.0621 - val_dense_51_loss: 0.2025 - val_conv1d_91_mse: 0.0623 - val_conv1d_91_accuracy: 0.1113 - val_dense_51_mse: 0.0525 - val_dense_51_accuracy: 0.9359\n",
            "Epoch 5/20\n",
            "147/147 [==============================] - 11s 75ms/step - loss: 0.1161 - conv1d_91_loss: 0.0574 - dense_51_loss: 0.0587 - conv1d_91_mse: 0.0574 - conv1d_91_accuracy: 0.1111 - dense_51_mse: 0.0160 - dense_51_accuracy: 0.9794 - val_loss: 0.2696 - val_conv1d_91_loss: 0.0664 - val_dense_51_loss: 0.2031 - val_conv1d_91_mse: 0.0666 - val_conv1d_91_accuracy: 0.1172 - val_dense_51_mse: 0.0521 - val_dense_51_accuracy: 0.9349\n",
            "Epoch 6/20\n",
            "147/147 [==============================] - 11s 74ms/step - loss: 0.1064 - conv1d_91_loss: 0.0565 - dense_51_loss: 0.0499 - conv1d_91_mse: 0.0565 - conv1d_91_accuracy: 0.1120 - dense_51_mse: 0.0135 - dense_51_accuracy: 0.9824 - val_loss: 0.2632 - val_conv1d_91_loss: 0.0564 - val_dense_51_loss: 0.2068 - val_conv1d_91_mse: 0.0565 - val_conv1d_91_accuracy: 0.1095 - val_dense_51_mse: 0.0535 - val_dense_51_accuracy: 0.9329\n",
            "Epoch 7/20\n",
            "147/147 [==============================] - 11s 72ms/step - loss: 0.1053 - conv1d_91_loss: 0.0558 - dense_51_loss: 0.0495 - conv1d_91_mse: 0.0559 - conv1d_91_accuracy: 0.1120 - dense_51_mse: 0.0133 - dense_51_accuracy: 0.9829 - val_loss: 0.2796 - val_conv1d_91_loss: 0.0657 - val_dense_51_loss: 0.2138 - val_conv1d_91_mse: 0.0659 - val_conv1d_91_accuracy: 0.1189 - val_dense_51_mse: 0.0525 - val_dense_51_accuracy: 0.9360\n",
            "Epoch 8/20\n",
            "147/147 [==============================] - 11s 72ms/step - loss: 0.0955 - conv1d_91_loss: 0.0544 - dense_51_loss: 0.0411 - conv1d_91_mse: 0.0544 - conv1d_91_accuracy: 0.1128 - dense_51_mse: 0.0110 - dense_51_accuracy: 0.9860 - val_loss: 0.2819 - val_conv1d_91_loss: 0.0618 - val_dense_51_loss: 0.2202 - val_conv1d_91_mse: 0.0620 - val_conv1d_91_accuracy: 0.1131 - val_dense_51_mse: 0.0537 - val_dense_51_accuracy: 0.9331\n",
            "Epoch 9/20\n",
            "147/147 [==============================] - 11s 73ms/step - loss: 0.0999 - conv1d_91_loss: 0.0554 - dense_51_loss: 0.0445 - conv1d_91_mse: 0.0554 - conv1d_91_accuracy: 0.1132 - dense_51_mse: 0.0120 - dense_51_accuracy: 0.9843 - val_loss: 0.2917 - val_conv1d_91_loss: 0.0621 - val_dense_51_loss: 0.2295 - val_conv1d_91_mse: 0.0624 - val_conv1d_91_accuracy: 0.1142 - val_dense_51_mse: 0.0537 - val_dense_51_accuracy: 0.9342\n",
            "Epoch 10/20\n",
            "147/147 [==============================] - 11s 74ms/step - loss: 0.0864 - conv1d_91_loss: 0.0537 - dense_51_loss: 0.0328 - conv1d_91_mse: 0.0537 - conv1d_91_accuracy: 0.1144 - dense_51_mse: 0.0086 - dense_51_accuracy: 0.9885 - val_loss: 0.2929 - val_conv1d_91_loss: 0.0568 - val_dense_51_loss: 0.2361 - val_conv1d_91_mse: 0.0569 - val_conv1d_91_accuracy: 0.1215 - val_dense_51_mse: 0.0573 - val_dense_51_accuracy: 0.9305\n",
            "Epoch 11/20\n",
            "147/147 [==============================] - 12s 79ms/step - loss: 0.0857 - conv1d_91_loss: 0.0529 - dense_51_loss: 0.0328 - conv1d_91_mse: 0.0529 - conv1d_91_accuracy: 0.1150 - dense_51_mse: 0.0087 - dense_51_accuracy: 0.9887 - val_loss: 0.2885 - val_conv1d_91_loss: 0.0604 - val_dense_51_loss: 0.2281 - val_conv1d_91_mse: 0.0606 - val_conv1d_91_accuracy: 0.1248 - val_dense_51_mse: 0.0537 - val_dense_51_accuracy: 0.9342\n",
            "Epoch 12/20\n",
            "147/147 [==============================] - 11s 75ms/step - loss: 0.0845 - conv1d_91_loss: 0.0524 - dense_51_loss: 0.0321 - conv1d_91_mse: 0.0524 - conv1d_91_accuracy: 0.1158 - dense_51_mse: 0.0085 - dense_51_accuracy: 0.9890 - val_loss: 0.3331 - val_conv1d_91_loss: 0.0950 - val_dense_51_loss: 0.2382 - val_conv1d_91_mse: 0.0952 - val_conv1d_91_accuracy: 0.1252 - val_dense_51_mse: 0.0546 - val_dense_51_accuracy: 0.9345\n",
            "Epoch 13/20\n",
            "147/147 [==============================] - 11s 74ms/step - loss: 0.0803 - conv1d_91_loss: 0.0519 - dense_51_loss: 0.0284 - conv1d_91_mse: 0.0519 - conv1d_91_accuracy: 0.1159 - dense_51_mse: 0.0074 - dense_51_accuracy: 0.9905 - val_loss: 0.3376 - val_conv1d_91_loss: 0.0860 - val_dense_51_loss: 0.2516 - val_conv1d_91_mse: 0.0862 - val_conv1d_91_accuracy: 0.1273 - val_dense_51_mse: 0.0561 - val_dense_51_accuracy: 0.9331\n",
            "Epoch 14/20\n",
            "147/147 [==============================] - 11s 72ms/step - loss: 0.0945 - conv1d_91_loss: 0.0517 - dense_51_loss: 0.0428 - conv1d_91_mse: 0.0517 - conv1d_91_accuracy: 0.1171 - dense_51_mse: 0.0116 - dense_51_accuracy: 0.9845 - val_loss: 0.2990 - val_conv1d_91_loss: 0.0609 - val_dense_51_loss: 0.2381 - val_conv1d_91_mse: 0.0610 - val_conv1d_91_accuracy: 0.1312 - val_dense_51_mse: 0.0559 - val_dense_51_accuracy: 0.9323\n",
            "Epoch 15/20\n",
            "147/147 [==============================] - 11s 72ms/step - loss: 0.0837 - conv1d_91_loss: 0.0513 - dense_51_loss: 0.0325 - conv1d_91_mse: 0.0513 - conv1d_91_accuracy: 0.1170 - dense_51_mse: 0.0086 - dense_51_accuracy: 0.9887 - val_loss: 0.2970 - val_conv1d_91_loss: 0.0527 - val_dense_51_loss: 0.2443 - val_conv1d_91_mse: 0.0528 - val_conv1d_91_accuracy: 0.1244 - val_dense_51_mse: 0.0557 - val_dense_51_accuracy: 0.9321\n",
            "Epoch 16/20\n",
            "147/147 [==============================] - 11s 74ms/step - loss: 0.0771 - conv1d_91_loss: 0.0511 - dense_51_loss: 0.0260 - conv1d_91_mse: 0.0511 - conv1d_91_accuracy: 0.1166 - dense_51_mse: 0.0068 - dense_51_accuracy: 0.9911 - val_loss: 0.3415 - val_conv1d_91_loss: 0.0531 - val_dense_51_loss: 0.2884 - val_conv1d_91_mse: 0.0532 - val_conv1d_91_accuracy: 0.1263 - val_dense_51_mse: 0.0587 - val_dense_51_accuracy: 0.9310\n",
            "Epoch 17/20\n",
            "147/147 [==============================] - 11s 75ms/step - loss: 0.0746 - conv1d_91_loss: 0.0503 - dense_51_loss: 0.0243 - conv1d_91_mse: 0.0503 - conv1d_91_accuracy: 0.1169 - dense_51_mse: 0.0064 - dense_51_accuracy: 0.9916 - val_loss: 0.2962 - val_conv1d_91_loss: 0.0517 - val_dense_51_loss: 0.2444 - val_conv1d_91_mse: 0.0519 - val_conv1d_91_accuracy: 0.1229 - val_dense_51_mse: 0.0534 - val_dense_51_accuracy: 0.9366\n",
            "Epoch 18/20\n",
            "147/147 [==============================] - 11s 76ms/step - loss: 0.0784 - conv1d_91_loss: 0.0503 - dense_51_loss: 0.0281 - conv1d_91_mse: 0.0503 - conv1d_91_accuracy: 0.1178 - dense_51_mse: 0.0075 - dense_51_accuracy: 0.9899 - val_loss: 0.3276 - val_conv1d_91_loss: 0.0524 - val_dense_51_loss: 0.2752 - val_conv1d_91_mse: 0.0526 - val_conv1d_91_accuracy: 0.1173 - val_dense_51_mse: 0.0597 - val_dense_51_accuracy: 0.9291\n",
            "Epoch 19/20\n",
            "147/147 [==============================] - 12s 79ms/step - loss: 0.0751 - conv1d_91_loss: 0.0502 - dense_51_loss: 0.0248 - conv1d_91_mse: 0.0502 - conv1d_91_accuracy: 0.1177 - dense_51_mse: 0.0065 - dense_51_accuracy: 0.9913 - val_loss: 0.3263 - val_conv1d_91_loss: 0.0688 - val_dense_51_loss: 0.2575 - val_conv1d_91_mse: 0.0691 - val_conv1d_91_accuracy: 0.1103 - val_dense_51_mse: 0.0558 - val_dense_51_accuracy: 0.9344\n",
            "Epoch 20/20\n",
            "147/147 [==============================] - 12s 82ms/step - loss: 0.0711 - conv1d_91_loss: 0.0496 - dense_51_loss: 0.0215 - conv1d_91_mse: 0.0496 - conv1d_91_accuracy: 0.1176 - dense_51_mse: 0.0056 - dense_51_accuracy: 0.9925 - val_loss: 0.3164 - val_conv1d_91_loss: 0.0540 - val_dense_51_loss: 0.2624 - val_conv1d_91_mse: 0.0541 - val_conv1d_91_accuracy: 0.1220 - val_dense_51_mse: 0.0543 - val_dense_51_accuracy: 0.9355\n"
          ],
          "name": "stdout"
        },
        {
          "output_type": "execute_result",
          "data": {
            "text/plain": [
              "<tensorflow.python.keras.callbacks.History at 0x7fcee8700160>"
            ]
          },
          "metadata": {
            "tags": []
          },
          "execution_count": 54
        }
      ]
    },
    {
      "cell_type": "code",
      "metadata": {
        "id": "ylEYJCof7Oq9",
        "colab_type": "code",
        "colab": {}
      },
      "source": [
        "directory_dataset = '/content/drive/My Drive/train/noisy/1006'#input('dataset:')\n",
        "directory_result = './'+'results/'#directory_dataset+'/'\n",
        "os.mkdir(directory_result + 'denoised/')\n",
        "\n",
        "result = []\n",
        "for curr_file in os.listdir(directory_dataset):\n",
        "\n",
        "  arr = np.load(directory_dataset + '/' + curr_file)\n",
        "  test = prepare_chunks(arr, length, step)\n",
        "  denoised, classes = denoise.predict(test)\n",
        "  curr_class = round(classes.sum()/classes.shape[0])\n",
        "  result.append([curr_file, curr_class])\n",
        "\n",
        "  if curr_class==0:\n",
        "    signals = []\n",
        "    for signal in np.expand_dims(denoised,0):\n",
        "      glued = []\n",
        "      for i in range(len(signal)):\n",
        "        if i == 0: ind = 0\n",
        "        else: ind = length - step\n",
        "        for j in range(ind,length):\n",
        "          glued.append(signal[i][j])\n",
        "      signals.append(np.array(glued))\n",
        "    np.save(directory_result + 'denoised/' + curr_file, np.array(signals))\n",
        "\n",
        "result = np.array(result)\n",
        "result = pd.DataFrame({'id':result[:,0], 'class':result[:,1]})\n",
        "result.to_csv(directory_result + '/result.csv')"
      ],
      "execution_count": 0,
      "outputs": []
    },
    {
      "cell_type": "code",
      "metadata": {
        "id": "o96y0sTUk5Ff",
        "colab_type": "code",
        "outputId": "da5bb375-4701-4022-ae5c-c98d752701b2",
        "colab": {
          "base_uri": "https://localhost:8080/",
          "height": 238
        }
      },
      "source": [
        "signals[0]\n"
      ],
      "execution_count": 0,
      "outputs": [
        {
          "output_type": "execute_result",
          "data": {
            "text/plain": [
              "array([[ 0.53601253,  0.5166369 ,  0.5117932 , ..., -0.11528199,\n",
              "        -0.11403016, -0.1863984 ],\n",
              "       [ 0.51557004,  0.5034173 ,  0.48616666, ..., -0.10942012,\n",
              "        -0.14916992, -0.19482179],\n",
              "       [ 0.5485771 ,  0.51248306,  0.46705633, ..., -0.12809446,\n",
              "        -0.14818464, -0.1906527 ],\n",
              "       ...,\n",
              "       [ 0.5150783 ,  0.4910716 ,  0.50734407, ..., -0.17790236,\n",
              "        -0.1919307 , -0.2585448 ],\n",
              "       [ 0.51168233,  0.5127557 ,  0.4845567 , ..., -0.16107182,\n",
              "        -0.20467472, -0.23210245],\n",
              "       [ 0.5169717 ,  0.5367661 ,  0.49197665, ..., -0.15959717,\n",
              "        -0.20162193, -0.24758662]], dtype=float32)"
            ]
          },
          "metadata": {
            "tags": []
          },
          "execution_count": 44
        }
      ]
    },
    {
      "cell_type": "code",
      "metadata": {
        "id": "ja1G7OlV-QPe",
        "colab_type": "code",
        "outputId": "d8437ad1-a417-42a2-bbd6-ef15ca92938c",
        "colab": {
          "base_uri": "https://localhost:8080/",
          "height": 238
        }
      },
      "source": [
        "test[0]"
      ],
      "execution_count": 0,
      "outputs": [
        {
          "output_type": "execute_result",
          "data": {
            "text/plain": [
              "array([[ 0.8193  ,  0.894   ,  0.764   , ...,  0.06464 ,  0.0693  ,\n",
              "        -0.03635 ],\n",
              "       [ 0.9004  ,  0.8896  ,  0.791   , ..., -0.00354 ,  0.01195 ,\n",
              "        -0.0827  ],\n",
              "       [ 0.887   ,  0.8364  ,  0.803   , ..., -0.1115  , -0.1282  ,\n",
              "        -0.2499  ],\n",
              "       ...,\n",
              "       [ 0.785   ,  0.8135  ,  0.81    , ...,  0.1342  ,  0.172   ,\n",
              "         0.1184  ],\n",
              "       [ 0.793   ,  0.86    ,  0.832   , ...,  0.0805  ,  0.09576 ,\n",
              "         0.02042 ],\n",
              "       [ 0.872   ,  0.8584  ,  0.8447  , ...,  0.02864 ,  0.001496,\n",
              "        -0.09467 ]], dtype=float16)"
            ]
          },
          "metadata": {
            "tags": []
          },
          "execution_count": 45
        }
      ]
    }
  ]
}