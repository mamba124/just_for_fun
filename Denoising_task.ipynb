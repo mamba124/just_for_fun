{
  "nbformat": 4,
  "nbformat_minor": 0,
  "metadata": {
    "colab": {
      "name": "Denoising task",
      "provenance": [],
      "collapsed_sections": [],
      "machine_shape": "hm",
      "include_colab_link": true
    },
    "kernelspec": {
      "name": "python3",
      "display_name": "Python 3"
    },
    "accelerator": "TPU"
  },
  "cells": [
    {
      "cell_type": "markdown",
      "metadata": {
        "id": "view-in-github",
        "colab_type": "text"
      },
      "source": [
        "<a href=\"https://colab.research.google.com/github/mamba124/just_for_fun/blob/master/Denoising_task.ipynb\" target=\"_parent\"><img src=\"https://colab.research.google.com/assets/colab-badge.svg\" alt=\"Open In Colab\"/></a>"
      ]
    },
    {
      "cell_type": "code",
      "metadata": {
        "id": "0hyWYiPqLdez",
        "colab_type": "code",
        "colab": {}
      },
      "source": [
        "import tensorflow.keras.layers as layers\n",
        "import tensorflow.keras.optimizers as optimizers\n",
        "from tensorflow.keras import utils \n",
        "from tensorflow.keras.preprocessing import image \n",
        "import numpy as np \n",
        "import os \n",
        "import pandas as pd \n",
        "from tensorflow.keras.models import Model, load_model #из кераса подгружаем абстрактный класс базовой модели, метод загрузки предобученной модели"
      ],
      "execution_count": 0,
      "outputs": []
    },
    {
      "cell_type": "code",
      "metadata": {
        "id": "9cmARWGSkhw5",
        "colab_type": "code",
        "colab": {}
      },
      "source": [
        "st = '/content/drive/My Drive/train/clean/47/47_122796_47-122796-0071 (1).npy'\n",
        "stop = st[-7:]"
      ],
      "execution_count": 0,
      "outputs": []
    },
    {
      "cell_type": "code",
      "metadata": {
        "id": "dTxQuD6JmXSF",
        "colab_type": "code",
        "outputId": "f568dbdc-e9f8-4699-d091-0d0c082cd68b",
        "colab": {
          "base_uri": "https://localhost:8080/",
          "height": 126
        }
      },
      "source": [
        "from google.colab import drive\n",
        "drive.mount('/content/drive')"
      ],
      "execution_count": 0,
      "outputs": [
        {
          "output_type": "stream",
          "text": [
            "Go to this URL in a browser: https://accounts.google.com/o/oauth2/auth?client_id=947318989803-6bn6qk8qdgf4n4g3pfee6491hc0brc4i.apps.googleusercontent.com&redirect_uri=urn%3aietf%3awg%3aoauth%3a2.0%3aoob&response_type=code&scope=email%20https%3a%2f%2fwww.googleapis.com%2fauth%2fdocs.test%20https%3a%2f%2fwww.googleapis.com%2fauth%2fdrive%20https%3a%2f%2fwww.googleapis.com%2fauth%2fdrive.photos.readonly%20https%3a%2f%2fwww.googleapis.com%2fauth%2fpeopleapi.readonly\n",
            "\n",
            "Enter your authorization code:\n",
            "··········\n",
            "Mounted at /content/drive\n"
          ],
          "name": "stdout"
        }
      ]
    },
    {
      "cell_type": "code",
      "metadata": {
        "id": "g957MMEVcEQn",
        "colab_type": "code",
        "colab": {}
      },
      "source": [
        "def get_chunks(signal, length, step):\n",
        "  batch =[]\n",
        "  syms_len = len(signal)\n",
        "  index = 0\n",
        "  \n",
        "  while (index + length <= syms_len):\n",
        "    batch.append(signal[index:index+length])\n",
        "    index += step\n",
        "\n",
        "  return batch\n",
        "\n",
        "def prepare_chunks(audio,length, step):\n",
        "  batch_list = get_chunks(audio, length, step)\n",
        "  return np.array(batch_list)"
      ],
      "execution_count": 0,
      "outputs": []
    },
    {
      "cell_type": "code",
      "metadata": {
        "id": "gD6WaJitJFgj",
        "colab_type": "code",
        "colab": {}
      },
      "source": [
        "directory = '/content/drive/My Drive/train/'\n",
        "folders = os.listdir(directory)\n",
        "clean_arrays = []\n",
        "noisy_arrays = []\n",
        "patch = os.listdir(directory+'clean/')\n",
        "\n",
        "for folder in patch:\n",
        "  for arr in os.listdir(directory+'clean/'+folder):\n",
        "    if arr[-7:]!=stop:\n",
        "      clean_arrays.append(np.load(directory+'clean/'+folder+'/'+arr))\n",
        "      noisy_arrays.append(np.load(directory+'noisy/'+folder+'/'+arr))\n",
        "\n"
      ],
      "execution_count": 0,
      "outputs": []
    },
    {
      "cell_type": "code",
      "metadata": {
        "id": "jjkBQJaCw_oL",
        "colab_type": "code",
        "colab": {}
      },
      "source": [
        "clean_arrays_ = []\n",
        "noisy_arrays_ = []\n",
        "\n",
        "for i in range(len(clean_arrays[:-1])):\n",
        "  for j in range(len(clean_arrays[i])):\n",
        "    clean_arrays_.append(clean_arrays[i][j])\n",
        "    noisy_arrays_.append(noisy_arrays[i][j])"
      ],
      "execution_count": 0,
      "outputs": []
    },
    {
      "cell_type": "code",
      "metadata": {
        "id": "47SaACdAictt",
        "colab_type": "code",
        "colab": {}
      },
      "source": [
        "length = 60 \n",
        "step = 30\n",
        "\n",
        "x_trainC = prepare_chunks(clean_arrays_, length, step)\n",
        "x_trainN = prepare_chunks(noisy_arrays_, length, step)\n",
        "\n",
        "y_trainC = np.ones((x_trainC.shape[0],1))\n",
        "y_trainN = np.zeros((x_trainN.shape[0],1))"
      ],
      "execution_count": 0,
      "outputs": []
    },
    {
      "cell_type": "code",
      "metadata": {
        "id": "ZDm1EtKtVhlv",
        "colab_type": "code",
        "colab": {}
      },
      "source": [
        "def shuffle(a, b):\n",
        "    p = np.random.permutation(len(a)) \n",
        "    return a[p], b[p] \n",
        "x_train = np.concatenate([x_trainC, x_trainN], axis = 0)\n",
        "y_train = np.concatenate([y_trainC, y_trainN], axis = 0)\n",
        "\n",
        "#x_val = np.concatenate([x_valC, x_valN], axis = 0)\n",
        "#y_val = np.concatenate([y_valC, y_valN], axis = 0)\n",
        "\n",
        "x_train_, y_train_ = shuffle(x_train, y_train)\n",
        "#x_val_, y_val_ = shuffle(x_val, y_val)"
      ],
      "execution_count": 0,
      "outputs": []
    },
    {
      "cell_type": "code",
      "metadata": {
        "id": "xkeN5CipkRlu",
        "colab_type": "code",
        "colab": {}
      },
      "source": [
        "def hybrid(vector):\n",
        "\n",
        "  inputs_vector = layers.Input(shape = (vector.shape[1],vector.shape[2]))\n",
        "\n",
        "  ##Classifier##\n",
        "  out_class = layers.BatchNormalization()(inputs_vector)\n",
        "  out_class= layers.Conv1D(64, 3,strides = 2, padding = 'same')(out_class)\n",
        "  out_class = layers.Flatten()(out_class)\n",
        "  out_class = layers.Dense(200, activation='elu')(out_class)\n",
        "  out_class = layers.Dense(100, activation='elu')(out_class)\n",
        "  out_class = layers.Dense(56, activation = 'relu')(out_class)\n",
        "  out_class = layers.Dense(1, activation = 'sigmoid')(out_class)\n",
        "  \n",
        "  ###Encoder###\n",
        "  ##Block1##\n",
        "  hidden = layers.Conv1D(4, 3, padding = 'same') (inputs_vector)\n",
        "  hidden = layers.Activation('tanh')(hidden)\n",
        " # hidden = layers.BatchNormalization()(hidden)\n",
        "\n",
        "  hidden = layers.Conv1D(4, 3, padding = 'same')(hidden)\n",
        "  hidden = layers.Activation('relu')(hidden)\n",
        " # hidden = layers.BatchNormalization()(hidden)\n",
        "\n",
        "  hidden = layers.MaxPooling1D(3)(hidden)\n",
        "\n",
        "  ##Block2##\n",
        "  hidden = layers.Conv1D(32, 3, padding = 'same') (hidden)\n",
        "  #hidden = layers.BatchNormalization()(hidden)\n",
        "  hidden = layers.Conv1D(32, 3, padding = 'same', strides = 2)(hidden)\n",
        "  hidden = layers.Activation('relu')(hidden)\n",
        " # hidden = layers.BatchNormalization()(hidden)\n",
        "  hidden = layers.MaxPooling1D(3)(hidden)\n",
        "  \n",
        "  ##Block3##\n",
        "  hidden = layers.Conv1D(128, 3, padding = 'same') (hidden)\n",
        "  #hidden = layers.BatchNormalization()(hidden)\n",
        "  hidden = layers.MaxPooling1D(3)(hidden)  \n",
        "  hidden = layers.Multiply()([1-out_class, hidden])\n",
        "  \n",
        "  ###Decoder###\n",
        "  ##UPBlock1##\n",
        "  hidden = layers.UpSampling1D(3)(hidden)\n",
        "  hidden = layers.Conv1D(128, 3, padding = 'same', activation= 'relu')(hidden)\n",
        "  hidden = layers.BatchNormalization()(hidden)\n",
        " # hidden = layers.Multiply()([out_class, hidden])\n",
        "\n",
        "  ##UPBlock2##\n",
        "  hidden = layers.UpSampling1D(4)(hidden)\n",
        "  hidden = layers.Conv1D(32, 3, padding = 'same', activation= 'tanh')(hidden)\n",
        "  hidden = layers.BatchNormalization()(hidden)\n",
        "  hidden = layers.Conv1D(32, 3, padding = 'same', activation= 'tanh')(hidden)\n",
        "  hidden = layers.BatchNormalization()(hidden)\n",
        " # hidden = layers.Multiply()([out_class, hidden])\n",
        "\n",
        "  ##UPblock3##\n",
        "  hidden = layers.UpSampling1D(5)(hidden)\n",
        "  hidden = layers.Conv1D(4, 3, padding = 'same',  activation= 'tanh')(hidden)\n",
        "  hidden = layers.BatchNormalization()(hidden)\n",
        "  hidden = layers.Conv1D(4, 3, padding = 'same',  activation= 'tanh')(hidden)\n",
        "  hidden = layers.BatchNormalization()(hidden)\n",
        "#  hidden = layers.Multiply()([out_class, hidden])\n",
        "\n",
        " #out = layers.Conv1D(80, 3, padding = 'same',  activation= 'tanh')(hidden)\n",
        "  hidden = layers.Flatten()(hidden)\n",
        "  hidden = layers.Dense(156, activation='relu')(hidden)\n",
        "  hidden = layers.Dense(256, activation='elu')(hidden)\n",
        "  out = layers.Dense(60*80, activation = 'tanh')(hidden)\n",
        "  out = layers.Reshape((60,80))(out)\n",
        "  modelD = Model(inputs=inputs_vector, outputs = [out, out_class])\n",
        "  #modelD.summary()\n",
        "\n",
        "  return modelD\n",
        "\n",
        "\n",
        "  "
      ],
      "execution_count": 0,
      "outputs": []
    },
    {
      "cell_type": "code",
      "metadata": {
        "id": "LJB_8QMVGLje",
        "colab_type": "code",
        "outputId": "729d4ee0-5cbd-446e-8a79-564bb75a99a3",
        "colab": {
          "base_uri": "https://localhost:8080/",
          "height": 232
        }
      },
      "source": [
        "denoise = hybrid(x_train_)\n",
        "denoise.compile(optimizer = optimizers.Adam(), loss = ['mse','binary_crossentropy'], metrics = ['mse','accuracy'])\n",
        "denoise.fit(x_train_, [x_train_, y_train_], validation_split = 0.3, batch_size=500, epochs = 20)"
      ],
      "execution_count": 10,
      "outputs": [
        {
          "output_type": "stream",
          "text": [
            "Epoch 1/5\n",
            "824/824 [==============================] - 75s 90ms/step - loss: 0.2830 - reshape_loss: 0.0709 - dense_3_loss: 0.2121 - reshape_mse: 0.0709 - reshape_accuracy: 0.1125 - dense_3_mse: 0.0625 - dense_3_accuracy: 0.9155 - val_loss: 0.2247 - val_reshape_loss: 0.0582 - val_dense_3_loss: 0.1665 - val_reshape_mse: 0.0582 - val_reshape_accuracy: 0.1257 - val_dense_3_mse: 0.0477 - val_dense_3_accuracy: 0.9372\n",
            "Epoch 2/5\n",
            "824/824 [==============================] - 97s 118ms/step - loss: 0.2045 - reshape_loss: 0.0542 - dense_3_loss: 0.1503 - reshape_mse: 0.0542 - reshape_accuracy: 0.1258 - dense_3_mse: 0.0429 - dense_3_accuracy: 0.9435 - val_loss: 0.1924 - val_reshape_loss: 0.0529 - val_dense_3_loss: 0.1395 - val_reshape_mse: 0.0529 - val_reshape_accuracy: 0.1237 - val_dense_3_mse: 0.0393 - val_dense_3_accuracy: 0.9486\n",
            "Epoch 3/5\n",
            "824/824 [==============================] - 98s 119ms/step - loss: 0.1799 - reshape_loss: 0.0504 - dense_3_loss: 0.1295 - reshape_mse: 0.0504 - reshape_accuracy: 0.1268 - dense_3_mse: 0.0365 - dense_3_accuracy: 0.9522 - val_loss: 0.1963 - val_reshape_loss: 0.0528 - val_dense_3_loss: 0.1436 - val_reshape_mse: 0.0528 - val_reshape_accuracy: 0.1269 - val_dense_3_mse: 0.0406 - val_dense_3_accuracy: 0.9468\n",
            "Epoch 4/5\n",
            "824/824 [==============================] - 99s 121ms/step - loss: 0.1626 - reshape_loss: 0.0480 - dense_3_loss: 0.1147 - reshape_mse: 0.0480 - reshape_accuracy: 0.1278 - dense_3_mse: 0.0320 - dense_3_accuracy: 0.9581 - val_loss: 0.1760 - val_reshape_loss: 0.0467 - val_dense_3_loss: 0.1293 - val_reshape_mse: 0.0467 - val_reshape_accuracy: 0.1305 - val_dense_3_mse: 0.0361 - val_dense_3_accuracy: 0.9533\n",
            "Epoch 5/5\n",
            "824/824 [==============================] - 103s 125ms/step - loss: 0.1491 - reshape_loss: 0.0452 - dense_3_loss: 0.1039 - reshape_mse: 0.0452 - reshape_accuracy: 0.1290 - dense_3_mse: 0.0288 - dense_3_accuracy: 0.9628 - val_loss: 0.1735 - val_reshape_loss: 0.0467 - val_dense_3_loss: 0.1267 - val_reshape_mse: 0.0467 - val_reshape_accuracy: 0.1281 - val_dense_3_mse: 0.0351 - val_dense_3_accuracy: 0.9545\n"
          ],
          "name": "stdout"
        },
        {
          "output_type": "execute_result",
          "data": {
            "text/plain": [
              "<tensorflow.python.keras.callbacks.History at 0x7fdd0c7441d0>"
            ]
          },
          "metadata": {
            "tags": []
          },
          "execution_count": 10
        }
      ]
    },
    {
      "cell_type": "code",
      "metadata": {
        "id": "YVJJzU104LSd",
        "colab_type": "code",
        "colab": {}
      },
      "source": [
        "denoise.compile(optimizer = optimizers.Adam(), loss = ['mse','binary_crossentropy'], metrics = ['mse','accuracy'])\n",
        "denoise.fit(x_train_, [x_train_, y_train_], validation_split = 0.1, batch_size=500, epochs = 20)"
      ],
      "execution_count": 0,
      "outputs": []
    },
    {
      "cell_type": "code",
      "metadata": {
        "id": "ylEYJCof7Oq9",
        "colab_type": "code",
        "colab": {}
      },
      "source": [
        "directory_dataset = '/content/drive/My Drive/train/noisy/1006'#input('dataset:')\n",
        "directory_result = './'+'results/'#directory_dataset+'/'\n",
        "os.mkdir(directory_result + 'denoised/')\n",
        "\n",
        "result = []\n",
        "for curr_file in os.listdir(directory_dataset):\n",
        "\n",
        "  arr = np.load(directory_dataset + '/' + curr_file)\n",
        "  test = prepare_chunks(arr, length, step)\n",
        "  denoised, classes = denoise.predict(test)\n",
        "  curr_class = round(classes.sum()/classes.shape[0])\n",
        "  result.append([curr_file, curr_class])\n",
        "\n",
        "  if curr_class==0:\n",
        "    signals = []\n",
        "    for signal in np.expand_dims(denoised,0):\n",
        "      glued = []\n",
        "      for i in range(len(signal)):\n",
        "        if i == 0: ind = 0\n",
        "        else: ind = length - step\n",
        "        for j in range(ind,length):\n",
        "          glued.append(signal[i][j])\n",
        "      signals.append(np.array(glued))\n",
        "    np.save(directory_result + 'denoised/' + curr_file, np.array(signals))\n",
        "\n",
        "result = np.array(result)\n",
        "result = pd.DataFrame({'id':result[:,0], 'class':result[:,1]})\n",
        "result.to_csv(directory_result + '/result.csv')"
      ],
      "execution_count": 0,
      "outputs": []
    },
    {
      "cell_type": "code",
      "metadata": {
        "id": "o96y0sTUk5Ff",
        "colab_type": "code",
        "outputId": "da5bb375-4701-4022-ae5c-c98d752701b2",
        "colab": {
          "base_uri": "https://localhost:8080/",
          "height": 238
        }
      },
      "source": [
        "signals[0]\n"
      ],
      "execution_count": 0,
      "outputs": [
        {
          "output_type": "execute_result",
          "data": {
            "text/plain": [
              "array([[ 0.53601253,  0.5166369 ,  0.5117932 , ..., -0.11528199,\n",
              "        -0.11403016, -0.1863984 ],\n",
              "       [ 0.51557004,  0.5034173 ,  0.48616666, ..., -0.10942012,\n",
              "        -0.14916992, -0.19482179],\n",
              "       [ 0.5485771 ,  0.51248306,  0.46705633, ..., -0.12809446,\n",
              "        -0.14818464, -0.1906527 ],\n",
              "       ...,\n",
              "       [ 0.5150783 ,  0.4910716 ,  0.50734407, ..., -0.17790236,\n",
              "        -0.1919307 , -0.2585448 ],\n",
              "       [ 0.51168233,  0.5127557 ,  0.4845567 , ..., -0.16107182,\n",
              "        -0.20467472, -0.23210245],\n",
              "       [ 0.5169717 ,  0.5367661 ,  0.49197665, ..., -0.15959717,\n",
              "        -0.20162193, -0.24758662]], dtype=float32)"
            ]
          },
          "metadata": {
            "tags": []
          },
          "execution_count": 44
        }
      ]
    },
    {
      "cell_type": "code",
      "metadata": {
        "id": "ja1G7OlV-QPe",
        "colab_type": "code",
        "outputId": "d8437ad1-a417-42a2-bbd6-ef15ca92938c",
        "colab": {
          "base_uri": "https://localhost:8080/",
          "height": 238
        }
      },
      "source": [
        "test[0]"
      ],
      "execution_count": 0,
      "outputs": [
        {
          "output_type": "execute_result",
          "data": {
            "text/plain": [
              "array([[ 0.8193  ,  0.894   ,  0.764   , ...,  0.06464 ,  0.0693  ,\n",
              "        -0.03635 ],\n",
              "       [ 0.9004  ,  0.8896  ,  0.791   , ..., -0.00354 ,  0.01195 ,\n",
              "        -0.0827  ],\n",
              "       [ 0.887   ,  0.8364  ,  0.803   , ..., -0.1115  , -0.1282  ,\n",
              "        -0.2499  ],\n",
              "       ...,\n",
              "       [ 0.785   ,  0.8135  ,  0.81    , ...,  0.1342  ,  0.172   ,\n",
              "         0.1184  ],\n",
              "       [ 0.793   ,  0.86    ,  0.832   , ...,  0.0805  ,  0.09576 ,\n",
              "         0.02042 ],\n",
              "       [ 0.872   ,  0.8584  ,  0.8447  , ...,  0.02864 ,  0.001496,\n",
              "        -0.09467 ]], dtype=float16)"
            ]
          },
          "metadata": {
            "tags": []
          },
          "execution_count": 45
        }
      ]
    }
  ]
}