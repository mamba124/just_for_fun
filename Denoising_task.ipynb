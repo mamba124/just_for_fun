{
  "nbformat": 4,
  "nbformat_minor": 0,
  "metadata": {
    "colab": {
      "name": "Denoising task",
      "provenance": [],
      "collapsed_sections": [],
      "machine_shape": "hm",
      "include_colab_link": true
    },
    "kernelspec": {
      "name": "python3",
      "display_name": "Python 3"
    },
    "accelerator": "TPU"
  },
  "cells": [
    {
      "cell_type": "markdown",
      "metadata": {
        "id": "view-in-github",
        "colab_type": "text"
      },
      "source": [
        "<a href=\"https://colab.research.google.com/github/mamba124/just_for_fun/blob/master/Denoising_task.ipynb\" target=\"_parent\"><img src=\"https://colab.research.google.com/assets/colab-badge.svg\" alt=\"Open In Colab\"/></a>"
      ]
    },
    {
      "cell_type": "code",
      "metadata": {
        "id": "0hyWYiPqLdez",
        "colab_type": "code",
        "colab": {}
      },
      "source": [
        "import tensorflow.keras.layers as layers\n",
        "import tensorflow.keras.optimizers as optimizers\n",
        "from tensorflow.keras import utils \n",
        "from tensorflow.keras.preprocessing import image \n",
        "import numpy as np \n",
        "import os \n",
        "import pandas as pd \n",
        "from tensorflow.keras.models import Model, load_model"
      ],
      "execution_count": 0,
      "outputs": []
    },
    {
      "cell_type": "code",
      "metadata": {
        "id": "9cmARWGSkhw5",
        "colab_type": "code",
        "colab": {}
      },
      "source": [
        "st = '/content/drive/My Drive/train/clean/47/47_122796_47-122796-0071 (1).npy'\n",
        "stop = st[-7:]"
      ],
      "execution_count": 0,
      "outputs": []
    },
    {
      "cell_type": "code",
      "metadata": {
        "id": "dTxQuD6JmXSF",
        "colab_type": "code",
        "outputId": "0029a62a-b1f7-4d3c-ff21-5e7c347a2d58",
        "colab": {
          "base_uri": "https://localhost:8080/",
          "height": 121
        }
      },
      "source": [
        "from google.colab import drive\n",
        "drive.mount('/content/drive')"
      ],
      "execution_count": 3,
      "outputs": [
        {
          "output_type": "stream",
          "text": [
            "Go to this URL in a browser: https://accounts.google.com/o/oauth2/auth?client_id=947318989803-6bn6qk8qdgf4n4g3pfee6491hc0brc4i.apps.googleusercontent.com&redirect_uri=urn%3aietf%3awg%3aoauth%3a2.0%3aoob&response_type=code&scope=email%20https%3a%2f%2fwww.googleapis.com%2fauth%2fdocs.test%20https%3a%2f%2fwww.googleapis.com%2fauth%2fdrive%20https%3a%2f%2fwww.googleapis.com%2fauth%2fdrive.photos.readonly%20https%3a%2f%2fwww.googleapis.com%2fauth%2fpeopleapi.readonly\n",
            "\n",
            "Enter your authorization code:\n",
            "··········\n",
            "Mounted at /content/drive\n"
          ],
          "name": "stdout"
        }
      ]
    },
    {
      "cell_type": "code",
      "metadata": {
        "id": "g957MMEVcEQn",
        "colab_type": "code",
        "colab": {}
      },
      "source": [
        "def get_chunks(signal, length, step):\n",
        "  batch =[]\n",
        "  syms_len = len(signal)\n",
        "  index = 0\n",
        "  \n",
        "  while (index + length <= syms_len):\n",
        "    batch.append(signal[index:index+length])\n",
        "    index += step\n",
        "\n",
        "  return batch\n",
        "\n",
        "def prepare_chunks(audio,length, step):\n",
        "  batch_list = get_chunks(audio, length, step)\n",
        "  return np.array(batch_list)"
      ],
      "execution_count": 0,
      "outputs": []
    },
    {
      "cell_type": "code",
      "metadata": {
        "id": "gD6WaJitJFgj",
        "colab_type": "code",
        "colab": {}
      },
      "source": [
        "directory = '/content/drive/My Drive/train/'\n",
        "folders = os.listdir(directory)\n",
        "clean_arrays = []\n",
        "noisy_arrays = []\n",
        "patch = os.listdir(directory+'clean/')\n",
        "\n",
        "for folder in patch:\n",
        "  for arr in os.listdir(directory+'clean/'+folder):\n",
        "    if arr[-7:]!=stop:\n",
        "      clean_arrays.append(np.load(directory+'clean/'+folder+'/'+arr))\n",
        "      noisy_arrays.append(np.load(directory+'noisy/'+folder+'/'+arr))\n",
        "\n"
      ],
      "execution_count": 0,
      "outputs": []
    },
    {
      "cell_type": "code",
      "metadata": {
        "id": "jjkBQJaCw_oL",
        "colab_type": "code",
        "colab": {}
      },
      "source": [
        "clean_arrays_ = []\n",
        "noisy_arrays_ = []\n",
        "\n",
        "for i in range(len(clean_arrays[:-1])):\n",
        "  for j in range(len(clean_arrays[i])):\n",
        "    clean_arrays_.append(clean_arrays[i][j])\n",
        "    noisy_arrays_.append(noisy_arrays[i][j])"
      ],
      "execution_count": 0,
      "outputs": []
    },
    {
      "cell_type": "code",
      "metadata": {
        "id": "47SaACdAictt",
        "colab_type": "code",
        "colab": {}
      },
      "source": [
        "length = 60 \n",
        "step = 30\n",
        "\n",
        "x_trainC = prepare_chunks(clean_arrays_, length, step)\n",
        "x_trainN = prepare_chunks(noisy_arrays_, length, step)\n",
        "\n",
        "y_trainC = np.ones((x_trainC.shape[0],1))\n",
        "y_trainN = np.zeros((x_trainN.shape[0],1))"
      ],
      "execution_count": 0,
      "outputs": []
    },
    {
      "cell_type": "code",
      "metadata": {
        "id": "oC54y1adtYmE",
        "colab_type": "code",
        "colab": {}
      },
      "source": [
        "class paired:\n",
        "  def __init__(self, cleared, noised):\n",
        "    self.clear = cleared\n",
        "    self.noise = noised\n",
        "\n",
        "  def __getitem__(self,index):\n",
        "    return self.clear[index], self.noise[index]\n",
        "\n",
        "  def __len__(self):\n",
        "    return len(self.clear)\n"
      ],
      "execution_count": 0,
      "outputs": []
    },
    {
      "cell_type": "code",
      "metadata": {
        "id": "ZDm1EtKtVhlv",
        "colab_type": "code",
        "colab": {}
      },
      "source": [
        "def shuffle(a, b):\n",
        "    p = np.random.permutation(len(b)) \n",
        "    permuted_ = a[p], b[p]\n",
        "    X_input = []\n",
        "    Y_input = []\n",
        "    permuted_output = []\n",
        "    choice = np.random.choice([0,1],size = len(permuted_[0][0]), p = [0.5,0.5])\n",
        "    for att in range(len(permuted_[0][0])):\n",
        "      X_input.append(permuted_[0][choice[att]][att])\n",
        "      Y_input.append(permuted_[1][choice[att]][att])\n",
        "      permuted_output.append(permuted_[0][0][att])\n",
        "    return (X_input,Y_input), permuted_output\n",
        "    \n",
        "\n",
        "    return \n",
        "#x_train = np.concatenate([X, X], axis = 0)\n",
        "#y_train = np.concatenate([y_trainC, y_trainN], axis = 0)\n",
        "X = paired(x_trainC, x_trainN)\n",
        "Y = paired(y_trainC, y_trainN)\n",
        "\n",
        "#x_val = np.concatenate([x_valC, x_valN], axis = 0)\n",
        "#y_val = np.concatenate([y_valC, y_valN], axis = 0)\n",
        "\n",
        "(x_train_, y_train_), output = shuffle(X, Y)\n",
        "x_train = np.array(x_train_)\n",
        "y_train = np.array(y_train_)\n",
        "output = np.array(output)\n",
        "#x_val_, y_val_ = shuffle(x_val, y_val)"
      ],
      "execution_count": 0,
      "outputs": []
    },
    {
      "cell_type": "code",
      "metadata": {
        "id": "xkeN5CipkRlu",
        "colab_type": "code",
        "colab": {}
      },
      "source": [
        "def hybrid(vector):\n",
        "\n",
        "  inputs_vector = layers.Input(shape = (vector.shape[1],vector.shape[2]))\n",
        "\n",
        "  ##Classifier##\n",
        "  out_class = layers.BatchNormalization()(inputs_vector)\n",
        "  out_class= layers.Conv1D(64, 3,strides = 2, padding = 'same')(out_class)\n",
        "  out_class = layers.Flatten()(out_class)\n",
        "  out_class = layers.Dense(200, activation='elu')(out_class)\n",
        "  out_class = layers.Dense(100, activation='elu')(out_class)\n",
        "  out_class = layers.Dense(56, activation = 'relu')(out_class)\n",
        "  out_class = layers.Dense(1, activation = 'sigmoid')(out_class)\n",
        "  \n",
        "  ###Encoder###\n",
        "  ##Block1##\n",
        "  hidden = layers.Conv1D(4, 3, padding = 'same') (inputs_vector)\n",
        "  hidden = layers.Activation('tanh')(hidden)\n",
        " # hidden = layers.BatchNormalization()(hidden)\n",
        "\n",
        "  hidden = layers.Conv1D(4, 3, padding = 'same')(hidden)\n",
        "  hidden = layers.Activation('relu')(hidden)\n",
        " # hidden = layers.BatchNormalization()(hidden)\n",
        "\n",
        "  hidden = layers.MaxPooling1D(3)(hidden)\n",
        "\n",
        "  ##Block2##\n",
        "  hidden = layers.Conv1D(32, 3, padding = 'same') (hidden)\n",
        "  #hidden = layers.BatchNormalization()(hidden)\n",
        "  hidden = layers.Conv1D(32, 3, padding = 'same', strides = 2)(hidden)\n",
        "  hidden = layers.Activation('relu')(hidden)\n",
        " # hidden = layers.BatchNormalization()(hidden)\n",
        "  hidden = layers.MaxPooling1D(3)(hidden)\n",
        "  \n",
        "  ##Block3##\n",
        "  hidden = layers.Conv1D(128, 3, padding = 'same') (hidden)\n",
        "  #hidden = layers.BatchNormalization()(hidden)\n",
        "  hidden = layers.MaxPooling1D(3)(hidden)  \n",
        "  hidden = layers.Multiply()([1-out_class, hidden])\n",
        "  \n",
        "  ###Decoder###\n",
        "  ##UPBlock1##\n",
        "  hidden = layers.UpSampling1D(3)(hidden)\n",
        "  hidden = layers.Conv1D(128, 3, padding = 'same', activation= 'relu')(hidden)\n",
        "  hidden = layers.BatchNormalization()(hidden)\n",
        "\n",
        "  ##UPBlock2##\n",
        "  hidden = layers.UpSampling1D(4)(hidden)\n",
        "  hidden = layers.Conv1D(32, 3, padding = 'same', activation= 'tanh')(hidden)\n",
        "  hidden = layers.BatchNormalization()(hidden)\n",
        "  hidden = layers.Conv1D(32, 3, padding = 'same', activation= 'tanh')(hidden)\n",
        "  hidden = layers.BatchNormalization()(hidden)\n",
        "\n",
        "  ##UPblock3##\n",
        "  hidden = layers.UpSampling1D(5)(hidden)\n",
        "  hidden = layers.Conv1D(4, 3, padding = 'same',  activation= 'tanh')(hidden)\n",
        "  hidden = layers.BatchNormalization()(hidden)\n",
        "  hidden = layers.Conv1D(4, 3, padding = 'same',  activation= 'tanh')(hidden)\n",
        "  hidden = layers.BatchNormalization()(hidden)\n",
        "\n",
        "  out = layers.Conv1D(80, 3, padding = 'same',  activation= 'tanh')(hidden)\n",
        " # hidden = layers.Flatten()(hidden)\n",
        " # hidden = layers.Dense(156, activation='relu')(hidden)\n",
        " # hidden = layers.Dense(256, activation='elu')(hidden)\n",
        " # out = layers.Dense(60*80, activation = 'tanh')(hidden)\n",
        " # out = layers.Reshape((60,80))(out)\n",
        "  modelD = Model(inputs=inputs_vector, outputs = [out, out_class])\n",
        "  #modelD.summary()\n",
        "\n",
        "  return modelD\n",
        "\n",
        "\n",
        "  "
      ],
      "execution_count": 0,
      "outputs": []
    },
    {
      "cell_type": "code",
      "metadata": {
        "id": "LJB_8QMVGLje",
        "colab_type": "code",
        "outputId": "6790bdca-e0d1-426c-b548-e77ddb7a6b53",
        "colab": {
          "base_uri": "https://localhost:8080/",
          "height": 726
        }
      },
      "source": [
        "denoise = hybrid(x_train)\n",
        "denoise.compile(optimizer = optimizers.RMSprop(), loss = ['mse','binary_crossentropy'], metrics = ['mse','accuracy'])\n",
        "denoise.fit(x_train, [output, y_train], validation_split = 0.3, batch_size=500, epochs = 20)"
      ],
      "execution_count": 101,
      "outputs": [
        {
          "output_type": "stream",
          "text": [
            "Epoch 1/20\n",
            "136/136 [==============================] - 14s 103ms/step - loss: 0.5075 - conv1d_114_loss: 0.1868 - dense_54_loss: 0.3207 - conv1d_114_mse: 0.1870 - conv1d_114_accuracy: 0.0562 - dense_54_mse: 0.0955 - dense_54_accuracy: 0.8693 - val_loss: 0.7015 - val_conv1d_114_loss: 0.1557 - val_dense_54_loss: 0.5459 - val_conv1d_114_mse: 0.1556 - val_conv1d_114_accuracy: 0.0559 - val_dense_54_mse: 0.1749 - val_dense_54_accuracy: 0.7548\n",
            "Epoch 2/20\n",
            "136/136 [==============================] - 12s 91ms/step - loss: 0.3195 - conv1d_114_loss: 0.1237 - dense_54_loss: 0.1958 - conv1d_114_mse: 0.1237 - conv1d_114_accuracy: 0.0919 - dense_54_mse: 0.0567 - dense_54_accuracy: 0.9239 - val_loss: 0.3542 - val_conv1d_114_loss: 0.1795 - val_dense_54_loss: 0.1747 - val_conv1d_114_mse: 0.1792 - val_conv1d_114_accuracy: 0.0841 - val_dense_54_mse: 0.0495 - val_dense_54_accuracy: 0.9338\n",
            "Epoch 3/20\n",
            "136/136 [==============================] - 12s 92ms/step - loss: 0.2671 - conv1d_114_loss: 0.1124 - dense_54_loss: 0.1547 - conv1d_114_mse: 0.1124 - conv1d_114_accuracy: 0.1107 - dense_54_mse: 0.0443 - dense_54_accuracy: 0.9411 - val_loss: 0.3228 - val_conv1d_114_loss: 0.1464 - val_dense_54_loss: 0.1764 - val_conv1d_114_mse: 0.1462 - val_conv1d_114_accuracy: 0.0896 - val_dense_54_mse: 0.0503 - val_dense_54_accuracy: 0.9333\n",
            "Epoch 4/20\n",
            "136/136 [==============================] - 12s 92ms/step - loss: 0.2348 - conv1d_114_loss: 0.1080 - dense_54_loss: 0.1268 - conv1d_114_mse: 0.1080 - conv1d_114_accuracy: 0.1113 - dense_54_mse: 0.0360 - dense_54_accuracy: 0.9527 - val_loss: 0.2908 - val_conv1d_114_loss: 0.1260 - val_dense_54_loss: 0.1647 - val_conv1d_114_mse: 0.1261 - val_conv1d_114_accuracy: 0.1019 - val_dense_54_mse: 0.0469 - val_dense_54_accuracy: 0.9378\n",
            "Epoch 5/20\n",
            "136/136 [==============================] - 13s 96ms/step - loss: 0.2058 - conv1d_114_loss: 0.1052 - dense_54_loss: 0.1006 - conv1d_114_mse: 0.1052 - conv1d_114_accuracy: 0.1129 - dense_54_mse: 0.0280 - dense_54_accuracy: 0.9638 - val_loss: 0.3144 - val_conv1d_114_loss: 0.1474 - val_dense_54_loss: 0.1670 - val_conv1d_114_mse: 0.1477 - val_conv1d_114_accuracy: 0.1050 - val_dense_54_mse: 0.0466 - val_dense_54_accuracy: 0.9392\n",
            "Epoch 6/20\n",
            "136/136 [==============================] - 13s 94ms/step - loss: 0.1891 - conv1d_114_loss: 0.1029 - dense_54_loss: 0.0862 - conv1d_114_mse: 0.1029 - conv1d_114_accuracy: 0.1135 - dense_54_mse: 0.0240 - dense_54_accuracy: 0.9678 - val_loss: 0.2825 - val_conv1d_114_loss: 0.1069 - val_dense_54_loss: 0.1756 - val_conv1d_114_mse: 0.1070 - val_conv1d_114_accuracy: 0.1189 - val_dense_54_mse: 0.0475 - val_dense_54_accuracy: 0.9395\n",
            "Epoch 7/20\n",
            "136/136 [==============================] - 13s 93ms/step - loss: 0.1722 - conv1d_114_loss: 0.1015 - dense_54_loss: 0.0707 - conv1d_114_mse: 0.1015 - conv1d_114_accuracy: 0.1138 - dense_54_mse: 0.0193 - dense_54_accuracy: 0.9748 - val_loss: 0.3437 - val_conv1d_114_loss: 0.1092 - val_dense_54_loss: 0.2345 - val_conv1d_114_mse: 0.1093 - val_conv1d_114_accuracy: 0.1097 - val_dense_54_mse: 0.0593 - val_dense_54_accuracy: 0.9244\n",
            "Epoch 8/20\n",
            "136/136 [==============================] - 13s 92ms/step - loss: 0.1569 - conv1d_114_loss: 0.1007 - dense_54_loss: 0.0563 - conv1d_114_mse: 0.1007 - conv1d_114_accuracy: 0.1135 - dense_54_mse: 0.0149 - dense_54_accuracy: 0.9806 - val_loss: 0.3032 - val_conv1d_114_loss: 0.1055 - val_dense_54_loss: 0.1977 - val_conv1d_114_mse: 0.1055 - val_conv1d_114_accuracy: 0.1123 - val_dense_54_mse: 0.0504 - val_dense_54_accuracy: 0.9369\n",
            "Epoch 9/20\n",
            "136/136 [==============================] - 12s 92ms/step - loss: 0.1483 - conv1d_114_loss: 0.0998 - dense_54_loss: 0.0485 - conv1d_114_mse: 0.0998 - conv1d_114_accuracy: 0.1129 - dense_54_mse: 0.0128 - dense_54_accuracy: 0.9831 - val_loss: 0.3223 - val_conv1d_114_loss: 0.1085 - val_dense_54_loss: 0.2138 - val_conv1d_114_mse: 0.1087 - val_conv1d_114_accuracy: 0.1079 - val_dense_54_mse: 0.0509 - val_dense_54_accuracy: 0.9377\n",
            "Epoch 10/20\n",
            "136/136 [==============================] - 13s 97ms/step - loss: 0.1393 - conv1d_114_loss: 0.0988 - dense_54_loss: 0.0405 - conv1d_114_mse: 0.0988 - conv1d_114_accuracy: 0.1131 - dense_54_mse: 0.0103 - dense_54_accuracy: 0.9868 - val_loss: 0.3174 - val_conv1d_114_loss: 0.1074 - val_dense_54_loss: 0.2100 - val_conv1d_114_mse: 0.1075 - val_conv1d_114_accuracy: 0.1206 - val_dense_54_mse: 0.0489 - val_dense_54_accuracy: 0.9397\n",
            "Epoch 11/20\n",
            "136/136 [==============================] - 13s 92ms/step - loss: 0.1297 - conv1d_114_loss: 0.0980 - dense_54_loss: 0.0317 - conv1d_114_mse: 0.0980 - conv1d_114_accuracy: 0.1129 - dense_54_mse: 0.0080 - dense_54_accuracy: 0.9899 - val_loss: 0.3512 - val_conv1d_114_loss: 0.1003 - val_dense_54_loss: 0.2509 - val_conv1d_114_mse: 0.1004 - val_conv1d_114_accuracy: 0.1014 - val_dense_54_mse: 0.0565 - val_dense_54_accuracy: 0.9325\n",
            "Epoch 12/20\n",
            "136/136 [==============================] - 12s 92ms/step - loss: 0.1296 - conv1d_114_loss: 0.0976 - dense_54_loss: 0.0320 - conv1d_114_mse: 0.0976 - conv1d_114_accuracy: 0.1122 - dense_54_mse: 0.0079 - dense_54_accuracy: 0.9902 - val_loss: 0.3476 - val_conv1d_114_loss: 0.1039 - val_dense_54_loss: 0.2437 - val_conv1d_114_mse: 0.1038 - val_conv1d_114_accuracy: 0.1147 - val_dense_54_mse: 0.0561 - val_dense_54_accuracy: 0.9324\n",
            "Epoch 13/20\n",
            "136/136 [==============================] - 13s 94ms/step - loss: 0.1213 - conv1d_114_loss: 0.0967 - dense_54_loss: 0.0247 - conv1d_114_mse: 0.0967 - conv1d_114_accuracy: 0.1113 - dense_54_mse: 0.0060 - dense_54_accuracy: 0.9924 - val_loss: 0.3147 - val_conv1d_114_loss: 0.1037 - val_dense_54_loss: 0.2111 - val_conv1d_114_mse: 0.1038 - val_conv1d_114_accuracy: 0.1109 - val_dense_54_mse: 0.0476 - val_dense_54_accuracy: 0.9427\n",
            "Epoch 14/20\n",
            "136/136 [==============================] - 14s 102ms/step - loss: 0.1196 - conv1d_114_loss: 0.0964 - dense_54_loss: 0.0232 - conv1d_114_mse: 0.0964 - conv1d_114_accuracy: 0.1105 - dense_54_mse: 0.0057 - dense_54_accuracy: 0.9930 - val_loss: 0.4597 - val_conv1d_114_loss: 0.1011 - val_dense_54_loss: 0.3586 - val_conv1d_114_mse: 0.1011 - val_conv1d_114_accuracy: 0.1068 - val_dense_54_mse: 0.0757 - val_dense_54_accuracy: 0.9083\n",
            "Epoch 15/20\n",
            "136/136 [==============================] - 13s 97ms/step - loss: 0.1160 - conv1d_114_loss: 0.0955 - dense_54_loss: 0.0204 - conv1d_114_mse: 0.0955 - conv1d_114_accuracy: 0.1096 - dense_54_mse: 0.0049 - dense_54_accuracy: 0.9938 - val_loss: 0.3858 - val_conv1d_114_loss: 0.0981 - val_dense_54_loss: 0.2877 - val_conv1d_114_mse: 0.0982 - val_conv1d_114_accuracy: 0.1123 - val_dense_54_mse: 0.0575 - val_dense_54_accuracy: 0.9322\n",
            "Epoch 16/20\n",
            "136/136 [==============================] - 13s 93ms/step - loss: 0.1134 - conv1d_114_loss: 0.0948 - dense_54_loss: 0.0186 - conv1d_114_mse: 0.0948 - conv1d_114_accuracy: 0.1096 - dense_54_mse: 0.0044 - dense_54_accuracy: 0.9944 - val_loss: 0.3543 - val_conv1d_114_loss: 0.1011 - val_dense_54_loss: 0.2532 - val_conv1d_114_mse: 0.1012 - val_conv1d_114_accuracy: 0.1031 - val_dense_54_mse: 0.0513 - val_dense_54_accuracy: 0.9404\n",
            "Epoch 17/20\n",
            "136/136 [==============================] - 13s 98ms/step - loss: 0.1130 - conv1d_114_loss: 0.0944 - dense_54_loss: 0.0187 - conv1d_114_mse: 0.0944 - conv1d_114_accuracy: 0.1082 - dense_54_mse: 0.0045 - dense_54_accuracy: 0.9944 - val_loss: 0.3592 - val_conv1d_114_loss: 0.1069 - val_dense_54_loss: 0.2523 - val_conv1d_114_mse: 0.1070 - val_conv1d_114_accuracy: 0.0985 - val_dense_54_mse: 0.0546 - val_dense_54_accuracy: 0.9354\n",
            "Epoch 18/20\n",
            "136/136 [==============================] - 13s 94ms/step - loss: 0.1110 - conv1d_114_loss: 0.0937 - dense_54_loss: 0.0172 - conv1d_114_mse: 0.0937 - conv1d_114_accuracy: 0.1072 - dense_54_mse: 0.0040 - dense_54_accuracy: 0.9949 - val_loss: 0.3660 - val_conv1d_114_loss: 0.1011 - val_dense_54_loss: 0.2649 - val_conv1d_114_mse: 0.1013 - val_conv1d_114_accuracy: 0.1061 - val_dense_54_mse: 0.0527 - val_dense_54_accuracy: 0.9394\n",
            "Epoch 19/20\n",
            "136/136 [==============================] - 12s 91ms/step - loss: 0.1087 - conv1d_114_loss: 0.0926 - dense_54_loss: 0.0161 - conv1d_114_mse: 0.0927 - conv1d_114_accuracy: 0.1077 - dense_54_mse: 0.0038 - dense_54_accuracy: 0.9950 - val_loss: 0.3527 - val_conv1d_114_loss: 0.1074 - val_dense_54_loss: 0.2453 - val_conv1d_114_mse: 0.1076 - val_conv1d_114_accuracy: 0.1058 - val_dense_54_mse: 0.0501 - val_dense_54_accuracy: 0.9409\n",
            "Epoch 20/20\n",
            "136/136 [==============================] - 12s 90ms/step - loss: 0.1062 - conv1d_114_loss: 0.0920 - dense_54_loss: 0.0142 - conv1d_114_mse: 0.0920 - conv1d_114_accuracy: 0.1076 - dense_54_mse: 0.0032 - dense_54_accuracy: 0.9960 - val_loss: 0.3609 - val_conv1d_114_loss: 0.0960 - val_dense_54_loss: 0.2649 - val_conv1d_114_mse: 0.0960 - val_conv1d_114_accuracy: 0.1173 - val_dense_54_mse: 0.0547 - val_dense_54_accuracy: 0.9355\n"
          ],
          "name": "stdout"
        },
        {
          "output_type": "execute_result",
          "data": {
            "text/plain": [
              "<tensorflow.python.keras.callbacks.History at 0x7fa6b935ef98>"
            ]
          },
          "metadata": {
            "tags": []
          },
          "execution_count": 101
        }
      ]
    },
    {
      "cell_type": "code",
      "metadata": {
        "id": "aqmzNoMXKnS1",
        "colab_type": "code",
        "colab": {
          "base_uri": "https://localhost:8080/",
          "height": 222
        },
        "outputId": "5d616265-c97c-4a3b-9c00-d8cd0cee9db4"
      },
      "source": [
        "denoise.compile(optimizer = optimizers.RMSprop(0.0001), loss = ['mse','binary_crossentropy'], metrics = ['mse','accuracy'])\n",
        "denoise.fit(x_train, [output, y_train], validation_split = 0.3, batch_size=500, epochs = 5)"
      ],
      "execution_count": 105,
      "outputs": [
        {
          "output_type": "stream",
          "text": [
            "Epoch 1/5\n",
            "136/136 [==============================] - 14s 105ms/step - loss: 0.0927 - conv1d_114_loss: 0.0874 - dense_54_loss: 0.0053 - conv1d_114_mse: 0.0874 - conv1d_114_accuracy: 0.1089 - dense_54_mse: 8.9393e-04 - dense_54_accuracy: 0.9989 - val_loss: 0.3215 - val_conv1d_114_loss: 0.0892 - val_dense_54_loss: 0.2323 - val_conv1d_114_mse: 0.0892 - val_conv1d_114_accuracy: 0.1068 - val_dense_54_mse: 0.0466 - val_dense_54_accuracy: 0.9454\n",
            "Epoch 2/5\n",
            "136/136 [==============================] - 14s 100ms/step - loss: 0.0900 - conv1d_114_loss: 0.0868 - dense_54_loss: 0.0031 - conv1d_114_mse: 0.0869 - conv1d_114_accuracy: 0.1079 - dense_54_mse: 3.5693e-04 - dense_54_accuracy: 0.9996 - val_loss: 0.3242 - val_conv1d_114_loss: 0.0886 - val_dense_54_loss: 0.2357 - val_conv1d_114_mse: 0.0886 - val_conv1d_114_accuracy: 0.1071 - val_dense_54_mse: 0.0464 - val_dense_54_accuracy: 0.9459\n",
            "Epoch 3/5\n",
            "136/136 [==============================] - 14s 99ms/step - loss: 0.0888 - conv1d_114_loss: 0.0863 - dense_54_loss: 0.0025 - conv1d_114_mse: 0.0864 - conv1d_114_accuracy: 0.1073 - dense_54_mse: 2.5029e-04 - dense_54_accuracy: 0.9997 - val_loss: 0.3233 - val_conv1d_114_loss: 0.0884 - val_dense_54_loss: 0.2349 - val_conv1d_114_mse: 0.0884 - val_conv1d_114_accuracy: 0.1110 - val_dense_54_mse: 0.0462 - val_dense_54_accuracy: 0.9462\n",
            "Epoch 4/5\n",
            "136/136 [==============================] - 14s 100ms/step - loss: 0.0881 - conv1d_114_loss: 0.0860 - dense_54_loss: 0.0021 - conv1d_114_mse: 0.0860 - conv1d_114_accuracy: 0.1079 - dense_54_mse: 1.8783e-04 - dense_54_accuracy: 0.9998 - val_loss: 0.3188 - val_conv1d_114_loss: 0.0880 - val_dense_54_loss: 0.2308 - val_conv1d_114_mse: 0.0880 - val_conv1d_114_accuracy: 0.1094 - val_dense_54_mse: 0.0454 - val_dense_54_accuracy: 0.9471\n",
            "Epoch 5/5\n",
            "136/136 [==============================] - 13s 97ms/step - loss: 0.0875 - conv1d_114_loss: 0.0856 - dense_54_loss: 0.0019 - conv1d_114_mse: 0.0856 - conv1d_114_accuracy: 0.1076 - dense_54_mse: 1.6453e-04 - dense_54_accuracy: 0.9998 - val_loss: 0.3231 - val_conv1d_114_loss: 0.0879 - val_dense_54_loss: 0.2352 - val_conv1d_114_mse: 0.0879 - val_conv1d_114_accuracy: 0.1092 - val_dense_54_mse: 0.0457 - val_dense_54_accuracy: 0.9468\n"
          ],
          "name": "stdout"
        },
        {
          "output_type": "execute_result",
          "data": {
            "text/plain": [
              "<tensorflow.python.keras.callbacks.History at 0x7fa6b0509550>"
            ]
          },
          "metadata": {
            "tags": []
          },
          "execution_count": 105
        }
      ]
    },
    {
      "cell_type": "code",
      "metadata": {
        "id": "o96y0sTUk5Ff",
        "colab_type": "code",
        "outputId": "496d9d88-054c-47f5-e982-f8cf971acd5d",
        "colab": {
          "base_uri": "https://localhost:8080/",
          "height": 252
        }
      },
      "source": [
        "denoise.predict(np.expand_dims(x_train[-2],0))"
      ],
      "execution_count": 103,
      "outputs": [
        {
          "output_type": "execute_result",
          "data": {
            "text/plain": [
              "[array([[[ 0.3973342 ,  0.5374595 ,  0.64984053, ..., -0.02274307,\n",
              "          -0.04630992, -0.06243704],\n",
              "         [ 0.3723632 ,  0.5535041 ,  0.6937918 , ...,  0.00326012,\n",
              "          -0.01283165, -0.02297579],\n",
              "         [ 0.4338003 ,  0.61463916,  0.7306186 , ...,  0.04649654,\n",
              "           0.03938435,  0.02688539],\n",
              "         ...,\n",
              "         [ 0.36309382,  0.52069145,  0.62091804, ..., -0.10670038,\n",
              "          -0.11863761, -0.12855522],\n",
              "         [ 0.3098724 ,  0.4789769 ,  0.58413786, ..., -0.1266183 ,\n",
              "          -0.1363476 , -0.15849754],\n",
              "         [ 0.3598903 ,  0.44390488,  0.568108  , ..., -0.1083078 ,\n",
              "          -0.15977377, -0.15403005]]], dtype=float32),\n",
              " array([[5.3979288e-09]], dtype=float32)]"
            ]
          },
          "metadata": {
            "tags": []
          },
          "execution_count": 103
        }
      ]
    },
    {
      "cell_type": "code",
      "metadata": {
        "id": "1raFP6RhGhOP",
        "colab_type": "code",
        "colab": {
          "base_uri": "https://localhost:8080/",
          "height": 151
        },
        "outputId": "c01451c2-61fc-4b8d-eba8-afa66050f542"
      },
      "source": [
        "output[-2]"
      ],
      "execution_count": 104,
      "outputs": [
        {
          "output_type": "execute_result",
          "data": {
            "text/plain": [
              "array([[ 0.2496 ,  0.4897 ,  0.557  , ...,  0.3127 ,  0.1647 ,  0.2498 ],\n",
              "       [ 0.278  ,  0.5083 ,  0.5776 , ...,  0.3447 ,  0.2256 ,  0.312  ],\n",
              "       [ 0.1466 ,  0.5034 ,  0.596  , ...,  0.2468 ,  0.186  ,  0.2588 ],\n",
              "       ...,\n",
              "       [ 0.2273 ,  0.5527 ,  0.6304 , ..., -0.1467 , -0.1864 , -0.3389 ],\n",
              "       [ 0.284  ,  0.5146 ,  0.62   , ..., -0.1223 , -0.1646 , -0.294  ],\n",
              "       [ 0.3284 ,  0.482  ,  0.606  , ...,  0.01232, -0.09705, -0.1605 ]],\n",
              "      dtype=float16)"
            ]
          },
          "metadata": {
            "tags": []
          },
          "execution_count": 104
        }
      ]
    },
    {
      "cell_type": "code",
      "metadata": {
        "id": "ylEYJCof7Oq9",
        "colab_type": "code",
        "colab": {}
      },
      "source": [
        "directory_dataset = '/content/drive/My Drive/train/noisy/1006'#input('dataset:')\n",
        "directory_result = './'+'results/'#directory_dataset+'/'\n",
        "os.mkdir(directory_result + 'denoised/')\n",
        "\n",
        "result = []\n",
        "for curr_file in os.listdir(directory_dataset):\n",
        "\n",
        "  arr = np.load(directory_dataset + '/' + curr_file)\n",
        "  test = prepare_chunks(arr, length, step)\n",
        "  denoised, classes = denoise.predict(test)\n",
        "  curr_class = round(classes.sum()/classes.shape[0])\n",
        "  result.append([curr_file, curr_class])\n",
        "\n",
        "  if curr_class==0:\n",
        "    signals = []\n",
        "    for signal in np.expand_dims(denoised,0):\n",
        "      glued = []\n",
        "      for i in range(len(signal)):\n",
        "        if i == 0: ind = 0\n",
        "        else: ind = length - step\n",
        "        for j in range(ind,length):\n",
        "          glued.append(signal[i][j])\n",
        "      signals.append(np.array(glued))\n",
        "    np.save(directory_result + 'denoised/' + curr_file, np.array(signals))\n",
        "\n",
        "result = np.array(result)\n",
        "result = pd.DataFrame({'id':result[:,0], 'class':result[:,1]})\n",
        "result.to_csv(directory_result + '/result.csv')"
      ],
      "execution_count": 0,
      "outputs": []
    }
  ]
}