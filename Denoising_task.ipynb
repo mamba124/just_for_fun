{
  "nbformat": 4,
  "nbformat_minor": 0,
  "metadata": {
    "colab": {
      "name": "Denoising task",
      "provenance": [],
      "collapsed_sections": [],
      "machine_shape": "hm",
      "include_colab_link": true
    },
    "kernelspec": {
      "name": "python3",
      "display_name": "Python 3"
    },
    "accelerator": "TPU"
  },
  "cells": [
    {
      "cell_type": "markdown",
      "metadata": {
        "id": "view-in-github",
        "colab_type": "text"
      },
      "source": [
        "<a href=\"https://colab.research.google.com/github/mamba124/just_for_fun/blob/master/Denoising_task.ipynb\" target=\"_parent\"><img src=\"https://colab.research.google.com/assets/colab-badge.svg\" alt=\"Open In Colab\"/></a>"
      ]
    },
    {
      "cell_type": "code",
      "metadata": {
        "id": "0hyWYiPqLdez",
        "colab_type": "code",
        "colab": {}
      },
      "source": [
        "import tensorflow.keras.layers as layers\n",
        "import tensorflow.keras.optimizers as optimizers\n",
        "from tensorflow.keras import utils \n",
        "from tensorflow.keras.preprocessing import image \n",
        "import numpy as np \n",
        "import os \n",
        "import pandas as pd \n",
        "from tensorflow.keras.models import Model, load_model #из кераса подгружаем абстрактный класс базовой модели, метод загрузки предобученной модели"
      ],
      "execution_count": 0,
      "outputs": []
    },
    {
      "cell_type": "code",
      "metadata": {
        "id": "9cmARWGSkhw5",
        "colab_type": "code",
        "colab": {}
      },
      "source": [
        "st = '/content/drive/My Drive/train/clean/47/47_122796_47-122796-0071 (1).npy'\n",
        "stop = st[-7:]"
      ],
      "execution_count": 0,
      "outputs": []
    },
    {
      "cell_type": "code",
      "metadata": {
        "id": "dTxQuD6JmXSF",
        "colab_type": "code",
        "outputId": "f568dbdc-e9f8-4699-d091-0d0c082cd68b",
        "colab": {
          "base_uri": "https://localhost:8080/",
          "height": 126
        }
      },
      "source": [
        "from google.colab import drive\n",
        "drive.mount('/content/drive')"
      ],
      "execution_count": 0,
      "outputs": [
        {
          "output_type": "stream",
          "text": [
            "Go to this URL in a browser: https://accounts.google.com/o/oauth2/auth?client_id=947318989803-6bn6qk8qdgf4n4g3pfee6491hc0brc4i.apps.googleusercontent.com&redirect_uri=urn%3aietf%3awg%3aoauth%3a2.0%3aoob&response_type=code&scope=email%20https%3a%2f%2fwww.googleapis.com%2fauth%2fdocs.test%20https%3a%2f%2fwww.googleapis.com%2fauth%2fdrive%20https%3a%2f%2fwww.googleapis.com%2fauth%2fdrive.photos.readonly%20https%3a%2f%2fwww.googleapis.com%2fauth%2fpeopleapi.readonly\n",
            "\n",
            "Enter your authorization code:\n",
            "··········\n",
            "Mounted at /content/drive\n"
          ],
          "name": "stdout"
        }
      ]
    },
    {
      "cell_type": "code",
      "metadata": {
        "id": "g957MMEVcEQn",
        "colab_type": "code",
        "colab": {}
      },
      "source": [
        "def get_chunks(signal, length, step):\n",
        "  batch =[]\n",
        "  syms_len = len(signal)\n",
        "  index = 0\n",
        "  \n",
        "  while (index + length <= syms_len):\n",
        "    batch.append(signal[index:index+length])\n",
        "    index += step\n",
        "\n",
        "  return batch\n",
        "\n",
        "def prepare_chunks(audio,length, step):\n",
        "  batch_list = get_chunks(audio, length, step)\n",
        "  return np.array(batch_list)"
      ],
      "execution_count": 0,
      "outputs": []
    },
    {
      "cell_type": "code",
      "metadata": {
        "id": "gD6WaJitJFgj",
        "colab_type": "code",
        "colab": {}
      },
      "source": [
        "directory = '/content/drive/My Drive/train/'\n",
        "folders = os.listdir(directory)\n",
        "clean_arrays = []\n",
        "noisy_arrays = []\n",
        "patch = os.listdir(directory+'clean/')\n",
        "\n",
        "for folder in patch:\n",
        "  for arr in os.listdir(directory+'clean/'+folder):\n",
        "    if arr[-7:]!=stop:\n",
        "      clean_arrays.append(np.load(directory+'clean/'+folder+'/'+arr))\n",
        "      noisy_arrays.append(np.load(directory+'noisy/'+folder+'/'+arr))\n",
        "\n"
      ],
      "execution_count": 0,
      "outputs": []
    },
    {
      "cell_type": "code",
      "metadata": {
        "id": "jjkBQJaCw_oL",
        "colab_type": "code",
        "colab": {}
      },
      "source": [
        "clean_arrays_ = []\n",
        "noisy_arrays_ = []\n",
        "\n",
        "for i in range(len(clean_arrays[:-1])):\n",
        "  for j in range(len(clean_arrays[i])):\n",
        "    clean_arrays_.append(clean_arrays[i][j])\n",
        "    noisy_arrays_.append(noisy_arrays[i][j])"
      ],
      "execution_count": 0,
      "outputs": []
    },
    {
      "cell_type": "code",
      "metadata": {
        "id": "47SaACdAictt",
        "colab_type": "code",
        "colab": {}
      },
      "source": [
        "length = 60 \n",
        "step = 30\n",
        "\n",
        "x_trainC = prepare_chunks(clean_arrays_, length, step)\n",
        "x_trainN = prepare_chunks(noisy_arrays_, length, step)\n",
        "\n",
        "y_trainC = np.ones((x_trainC.shape[0],1))\n",
        "y_trainN = np.zeros((x_trainN.shape[0],1))"
      ],
      "execution_count": 0,
      "outputs": []
    },
    {
      "cell_type": "code",
      "metadata": {
        "id": "ZDm1EtKtVhlv",
        "colab_type": "code",
        "colab": {}
      },
      "source": [
        "def shuffle(a, b):\n",
        "    p = np.random.permutation(len(a)) \n",
        "    return a[p], b[p] \n",
        "x_train = np.concatenate([x_trainC, x_trainN], axis = 0)\n",
        "y_train = np.concatenate([y_trainC, y_trainN], axis = 0)\n",
        "\n",
        "#x_val = np.concatenate([x_valC, x_valN], axis = 0)\n",
        "#y_val = np.concatenate([y_valC, y_valN], axis = 0)\n",
        "\n",
        "x_train_, y_train_ = shuffle(x_train, y_train)\n",
        "#x_val_, y_val_ = shuffle(x_val, y_val)"
      ],
      "execution_count": 0,
      "outputs": []
    },
    {
      "cell_type": "code",
      "metadata": {
        "id": "xkeN5CipkRlu",
        "colab_type": "code",
        "colab": {}
      },
      "source": [
        "def hybrid(vector):\n",
        "\n",
        "  inputs_vector = layers.Input(shape = (vector.shape[1],vector.shape[2]))\n",
        "\n",
        "  ##Classifier##\n",
        "  out_class = layers.BatchNormalization()(inputs_vector)\n",
        "  out_class= layers.Conv1D(64, 3,strides = 2, padding = 'same')(out_class)\n",
        "  out_class = layers.Flatten()(out_class)\n",
        "  out_class = layers.Dense(200, activation='elu')(out_class)\n",
        "  out_class = layers.Dense(100, activation='elu')(out_class)\n",
        "  out_class = layers.Dense(56, activation = 'relu')(out_class)\n",
        "  out_class = layers.Dense(1, activation = 'sigmoid')(out_class)\n",
        "  \n",
        "  ###Encoder###\n",
        "  ##Block1##\n",
        "  hidden = layers.Conv1D(4, 3, padding = 'same') (inputs_vector)\n",
        "  hidden = layers.Activation('tanh')(hidden)\n",
        " # hidden = layers.BatchNormalization()(hidden)\n",
        "\n",
        "  hidden = layers.Conv1D(4, 3, padding = 'same')(hidden)\n",
        "  hidden = layers.Activation('relu')(hidden)\n",
        " # hidden = layers.BatchNormalization()(hidden)\n",
        "\n",
        "  hidden = layers.MaxPooling1D(3)(hidden)\n",
        "\n",
        "  ##Block2##\n",
        "  hidden = layers.Conv1D(32, 3, padding = 'same') (hidden)\n",
        "  #hidden = layers.BatchNormalization()(hidden)\n",
        "  hidden = layers.Conv1D(32, 3, padding = 'same', strides = 2)(hidden)\n",
        "  hidden = layers.Activation('relu')(hidden)\n",
        " # hidden = layers.BatchNormalization()(hidden)\n",
        "  hidden = layers.MaxPooling1D(3)(hidden)\n",
        "  \n",
        "  ##Block3##\n",
        "  hidden = layers.Conv1D(128, 3, padding = 'same') (hidden)\n",
        "  #hidden = layers.BatchNormalization()(hidden)\n",
        "  hidden = layers.MaxPooling1D(3)(hidden)  \n",
        "  hidden = layers.Multiply()([1-out_class, hidden])\n",
        "  \n",
        "  ###Decoder###\n",
        "  ##UPBlock1##\n",
        "  hidden = layers.UpSampling1D(3)(hidden)\n",
        "  hidden = layers.Conv1D(128, 3, padding = 'same', activation= 'relu')(hidden)\n",
        "  hidden = layers.BatchNormalization()(hidden)\n",
        "\n",
        "  ##UPBlock2##\n",
        "  hidden = layers.UpSampling1D(4)(hidden)\n",
        "  hidden = layers.Conv1D(32, 3, padding = 'same', activation= 'tanh')(hidden)\n",
        "  hidden = layers.BatchNormalization()(hidden)\n",
        "  hidden = layers.Conv1D(32, 3, padding = 'same', activation= 'tanh')(hidden)\n",
        "  hidden = layers.BatchNormalization()(hidden)\n",
        "\n",
        "  ##UPblock3##\n",
        "  hidden = layers.UpSampling1D(5)(hidden)\n",
        "  hidden = layers.Conv1D(4, 3, padding = 'same',  activation= 'tanh')(hidden)\n",
        "  hidden = layers.BatchNormalization()(hidden)\n",
        "  hidden = layers.Conv1D(4, 3, padding = 'same',  activation= 'tanh')(hidden)\n",
        "  hidden = layers.BatchNormalization()(hidden)\n",
        "\n",
        " #out = layers.Conv1D(80, 3, padding = 'same',  activation= 'tanh')(hidden)\n",
        "  hidden = layers.Flatten()(hidden)\n",
        "  hidden = layers.Dense(156, activation='relu')(hidden)\n",
        "  hidden = layers.Dense(256, activation='elu')(hidden)\n",
        "  out = layers.Dense(60*80, activation = 'tanh')(hidden)\n",
        "  out = layers.Reshape((60,80))(out)\n",
        "  modelD = Model(inputs=inputs_vector, outputs = [out, out_class])\n",
        "  #modelD.summary()\n",
        "\n",
        "  return modelD\n",
        "\n",
        "\n",
        "  "
      ],
      "execution_count": 0,
      "outputs": []
    },
    {
      "cell_type": "code",
      "metadata": {
        "id": "LJB_8QMVGLje",
        "colab_type": "code",
        "outputId": "e50c8fb8-6355-4b35-a329-550027e17ad3",
        "colab": {
          "base_uri": "https://localhost:8080/",
          "height": 766
        }
      },
      "source": [
        "denoise = hybrid(x_train_)\n",
        "denoise.compile(optimizer = optimizers.Adam(), loss = ['mse','binary_crossentropy'], metrics = ['mse','accuracy'])\n",
        "denoise.fit(x_train_, [x_train_, y_train_], validation_split = 0.3, batch_size=500, epochs = 20)"
      ],
      "execution_count": 11,
      "outputs": [
        {
          "output_type": "stream",
          "text": [
            "Epoch 1/20\n",
            "850/850 [==============================] - 79s 93ms/step - loss: 0.2822 - reshape_loss: 0.0699 - dense_3_loss: 0.2123 - reshape_mse: 0.0699 - reshape_accuracy: 0.1144 - dense_3_mse: 0.0625 - dense_3_accuracy: 0.9158 - val_loss: 0.2341 - val_reshape_loss: 0.0649 - val_dense_3_loss: 0.1693 - val_reshape_mse: 0.0649 - val_reshape_accuracy: 0.1208 - val_dense_3_mse: 0.0484 - val_dense_3_accuracy: 0.9364\n",
            "Epoch 2/20\n",
            "850/850 [==============================] - 109s 129ms/step - loss: 0.2105 - reshape_loss: 0.0551 - dense_3_loss: 0.1555 - reshape_mse: 0.0551 - reshape_accuracy: 0.1277 - dense_3_mse: 0.0445 - dense_3_accuracy: 0.9412 - val_loss: 0.2056 - val_reshape_loss: 0.0568 - val_dense_3_loss: 0.1488 - val_reshape_mse: 0.0568 - val_reshape_accuracy: 0.1261 - val_dense_3_mse: 0.0427 - val_dense_3_accuracy: 0.9432\n",
            "Epoch 3/20\n",
            "850/850 [==============================] - 110s 130ms/step - loss: 0.1842 - reshape_loss: 0.0507 - dense_3_loss: 0.1335 - reshape_mse: 0.0507 - reshape_accuracy: 0.1298 - dense_3_mse: 0.0376 - dense_3_accuracy: 0.9507 - val_loss: 0.1910 - val_reshape_loss: 0.0516 - val_dense_3_loss: 0.1393 - val_reshape_mse: 0.0516 - val_reshape_accuracy: 0.1311 - val_dense_3_mse: 0.0395 - val_dense_3_accuracy: 0.9484\n",
            "Epoch 4/20\n",
            "850/850 [==============================] - 111s 130ms/step - loss: 0.1684 - reshape_loss: 0.0482 - dense_3_loss: 0.1202 - reshape_mse: 0.0482 - reshape_accuracy: 0.1302 - dense_3_mse: 0.0337 - dense_3_accuracy: 0.9560 - val_loss: 0.1875 - val_reshape_loss: 0.0470 - val_dense_3_loss: 0.1405 - val_reshape_mse: 0.0470 - val_reshape_accuracy: 0.1339 - val_dense_3_mse: 0.0399 - val_dense_3_accuracy: 0.9479\n",
            "Epoch 5/20\n",
            "850/850 [==============================] - 114s 134ms/step - loss: 0.1538 - reshape_loss: 0.0456 - dense_3_loss: 0.1082 - reshape_mse: 0.0456 - reshape_accuracy: 0.1310 - dense_3_mse: 0.0300 - dense_3_accuracy: 0.9611 - val_loss: 0.1803 - val_reshape_loss: 0.0457 - val_dense_3_loss: 0.1346 - val_reshape_mse: 0.0457 - val_reshape_accuracy: 0.1343 - val_dense_3_mse: 0.0376 - val_dense_3_accuracy: 0.9511\n",
            "Epoch 6/20\n",
            "850/850 [==============================] - 116s 137ms/step - loss: 0.1422 - reshape_loss: 0.0430 - dense_3_loss: 0.0992 - reshape_mse: 0.0430 - reshape_accuracy: 0.1313 - dense_3_mse: 0.0274 - dense_3_accuracy: 0.9646 - val_loss: 0.1769 - val_reshape_loss: 0.0441 - val_dense_3_loss: 0.1328 - val_reshape_mse: 0.0441 - val_reshape_accuracy: 0.1283 - val_dense_3_mse: 0.0372 - val_dense_3_accuracy: 0.9520\n",
            "Epoch 7/20\n",
            "850/850 [==============================] - 113s 133ms/step - loss: 0.1300 - reshape_loss: 0.0404 - dense_3_loss: 0.0896 - reshape_mse: 0.0404 - reshape_accuracy: 0.1329 - dense_3_mse: 0.0245 - dense_3_accuracy: 0.9683 - val_loss: 0.1750 - val_reshape_loss: 0.0419 - val_dense_3_loss: 0.1331 - val_reshape_mse: 0.0419 - val_reshape_accuracy: 0.1341 - val_dense_3_mse: 0.0365 - val_dense_3_accuracy: 0.9533\n",
            "Epoch 8/20\n",
            "850/850 [==============================] - 112s 132ms/step - loss: 0.1203 - reshape_loss: 0.0392 - dense_3_loss: 0.0810 - reshape_mse: 0.0392 - reshape_accuracy: 0.1345 - dense_3_mse: 0.0221 - dense_3_accuracy: 0.9713 - val_loss: 0.1713 - val_reshape_loss: 0.0399 - val_dense_3_loss: 0.1314 - val_reshape_mse: 0.0399 - val_reshape_accuracy: 0.1376 - val_dense_3_mse: 0.0355 - val_dense_3_accuracy: 0.9552\n",
            "Epoch 9/20\n",
            "850/850 [==============================] - 117s 138ms/step - loss: 0.1130 - reshape_loss: 0.0384 - dense_3_loss: 0.0745 - reshape_mse: 0.0384 - reshape_accuracy: 0.1353 - dense_3_mse: 0.0202 - dense_3_accuracy: 0.9739 - val_loss: 0.1721 - val_reshape_loss: 0.0390 - val_dense_3_loss: 0.1331 - val_reshape_mse: 0.0390 - val_reshape_accuracy: 0.1322 - val_dense_3_mse: 0.0359 - val_dense_3_accuracy: 0.9543\n",
            "Epoch 10/20\n",
            "850/850 [==============================] - 114s 134ms/step - loss: 0.1067 - reshape_loss: 0.0378 - dense_3_loss: 0.0689 - reshape_mse: 0.0378 - reshape_accuracy: 0.1357 - dense_3_mse: 0.0186 - dense_3_accuracy: 0.9759 - val_loss: 0.1805 - val_reshape_loss: 0.0404 - val_dense_3_loss: 0.1400 - val_reshape_mse: 0.0404 - val_reshape_accuracy: 0.1307 - val_dense_3_mse: 0.0370 - val_dense_3_accuracy: 0.9537\n",
            "Epoch 11/20\n",
            "850/850 [==============================] - 116s 136ms/step - loss: 0.0989 - reshape_loss: 0.0371 - dense_3_loss: 0.0618 - reshape_mse: 0.0371 - reshape_accuracy: 0.1360 - dense_3_mse: 0.0166 - dense_3_accuracy: 0.9787 - val_loss: 0.1804 - val_reshape_loss: 0.0381 - val_dense_3_loss: 0.1423 - val_reshape_mse: 0.0381 - val_reshape_accuracy: 0.1350 - val_dense_3_mse: 0.0366 - val_dense_3_accuracy: 0.9547\n",
            "Epoch 12/20\n",
            "850/850 [==============================] - 117s 137ms/step - loss: 0.0951 - reshape_loss: 0.0366 - dense_3_loss: 0.0585 - reshape_mse: 0.0366 - reshape_accuracy: 0.1363 - dense_3_mse: 0.0156 - dense_3_accuracy: 0.9800 - val_loss: 0.1819 - val_reshape_loss: 0.0400 - val_dense_3_loss: 0.1420 - val_reshape_mse: 0.0400 - val_reshape_accuracy: 0.1272 - val_dense_3_mse: 0.0366 - val_dense_3_accuracy: 0.9544\n",
            "Epoch 13/20\n",
            "850/850 [==============================] - 116s 137ms/step - loss: 0.0896 - reshape_loss: 0.0360 - dense_3_loss: 0.0536 - reshape_mse: 0.0360 - reshape_accuracy: 0.1363 - dense_3_mse: 0.0143 - dense_3_accuracy: 0.9816 - val_loss: 0.1864 - val_reshape_loss: 0.0362 - val_dense_3_loss: 0.1502 - val_reshape_mse: 0.0362 - val_reshape_accuracy: 0.1355 - val_dense_3_mse: 0.0377 - val_dense_3_accuracy: 0.9534\n",
            "Epoch 14/20\n",
            "850/850 [==============================] - 117s 138ms/step - loss: 0.0844 - reshape_loss: 0.0358 - dense_3_loss: 0.0486 - reshape_mse: 0.0358 - reshape_accuracy: 0.1364 - dense_3_mse: 0.0129 - dense_3_accuracy: 0.9834 - val_loss: 0.1941 - val_reshape_loss: 0.0376 - val_dense_3_loss: 0.1565 - val_reshape_mse: 0.0376 - val_reshape_accuracy: 0.1359 - val_dense_3_mse: 0.0384 - val_dense_3_accuracy: 0.9531\n",
            "Epoch 15/20\n",
            "850/850 [==============================] - 117s 138ms/step - loss: 0.0821 - reshape_loss: 0.0356 - dense_3_loss: 0.0465 - reshape_mse: 0.0356 - reshape_accuracy: 0.1367 - dense_3_mse: 0.0123 - dense_3_accuracy: 0.9842 - val_loss: 0.1961 - val_reshape_loss: 0.0359 - val_dense_3_loss: 0.1602 - val_reshape_mse: 0.0359 - val_reshape_accuracy: 0.1383 - val_dense_3_mse: 0.0380 - val_dense_3_accuracy: 0.9537\n",
            "Epoch 16/20\n",
            "850/850 [==============================] - 116s 136ms/step - loss: 0.0790 - reshape_loss: 0.0354 - dense_3_loss: 0.0436 - reshape_mse: 0.0354 - reshape_accuracy: 0.1371 - dense_3_mse: 0.0115 - dense_3_accuracy: 0.9852 - val_loss: 0.2111 - val_reshape_loss: 0.0360 - val_dense_3_loss: 0.1750 - val_reshape_mse: 0.0360 - val_reshape_accuracy: 0.1332 - val_dense_3_mse: 0.0404 - val_dense_3_accuracy: 0.9510\n",
            "Epoch 17/20\n",
            "850/850 [==============================] - 119s 139ms/step - loss: 0.0765 - reshape_loss: 0.0352 - dense_3_loss: 0.0412 - reshape_mse: 0.0352 - reshape_accuracy: 0.1372 - dense_3_mse: 0.0109 - dense_3_accuracy: 0.9859 - val_loss: 0.2166 - val_reshape_loss: 0.0362 - val_dense_3_loss: 0.1804 - val_reshape_mse: 0.0362 - val_reshape_accuracy: 0.1399 - val_dense_3_mse: 0.0421 - val_dense_3_accuracy: 0.9487\n",
            "Epoch 18/20\n",
            "850/850 [==============================] - 120s 141ms/step - loss: 0.0742 - reshape_loss: 0.0350 - dense_3_loss: 0.0392 - reshape_mse: 0.0350 - reshape_accuracy: 0.1374 - dense_3_mse: 0.0104 - dense_3_accuracy: 0.9865 - val_loss: 0.2208 - val_reshape_loss: 0.0365 - val_dense_3_loss: 0.1843 - val_reshape_mse: 0.0365 - val_reshape_accuracy: 0.1370 - val_dense_3_mse: 0.0419 - val_dense_3_accuracy: 0.9492\n",
            "Epoch 19/20\n",
            "850/850 [==============================] - 121s 142ms/step - loss: 0.0717 - reshape_loss: 0.0348 - dense_3_loss: 0.0369 - reshape_mse: 0.0348 - reshape_accuracy: 0.1375 - dense_3_mse: 0.0097 - dense_3_accuracy: 0.9874 - val_loss: 0.2120 - val_reshape_loss: 0.0351 - val_dense_3_loss: 0.1769 - val_reshape_mse: 0.0351 - val_reshape_accuracy: 0.1367 - val_dense_3_mse: 0.0395 - val_dense_3_accuracy: 0.9527\n",
            "Epoch 20/20\n",
            "850/850 [==============================] - 119s 140ms/step - loss: 0.0684 - reshape_loss: 0.0346 - dense_3_loss: 0.0338 - reshape_mse: 0.0346 - reshape_accuracy: 0.1375 - dense_3_mse: 0.0089 - dense_3_accuracy: 0.9885 - val_loss: 0.2120 - val_reshape_loss: 0.0379 - val_dense_3_loss: 0.1741 - val_reshape_mse: 0.0379 - val_reshape_accuracy: 0.1350 - val_dense_3_mse: 0.0395 - val_dense_3_accuracy: 0.9526\n"
          ],
          "name": "stdout"
        },
        {
          "output_type": "execute_result",
          "data": {
            "text/plain": [
              "<tensorflow.python.keras.callbacks.History at 0x7f35d9115160>"
            ]
          },
          "metadata": {
            "tags": []
          },
          "execution_count": 11
        }
      ]
    },
    {
      "cell_type": "code",
      "metadata": {
        "id": "ylEYJCof7Oq9",
        "colab_type": "code",
        "colab": {}
      },
      "source": [
        "directory_dataset = '/content/drive/My Drive/train/noisy/1006'#input('dataset:')\n",
        "directory_result = './'+'results/'#directory_dataset+'/'\n",
        "os.mkdir(directory_result + 'denoised/')\n",
        "\n",
        "result = []\n",
        "for curr_file in os.listdir(directory_dataset):\n",
        "\n",
        "  arr = np.load(directory_dataset + '/' + curr_file)\n",
        "  test = prepare_chunks(arr, length, step)\n",
        "  denoised, classes = denoise.predict(test)\n",
        "  curr_class = round(classes.sum()/classes.shape[0])\n",
        "  result.append([curr_file, curr_class])\n",
        "\n",
        "  if curr_class==0:\n",
        "    signals = []\n",
        "    for signal in np.expand_dims(denoised,0):\n",
        "      glued = []\n",
        "      for i in range(len(signal)):\n",
        "        if i == 0: ind = 0\n",
        "        else: ind = length - step\n",
        "        for j in range(ind,length):\n",
        "          glued.append(signal[i][j])\n",
        "      signals.append(np.array(glued))\n",
        "    np.save(directory_result + 'denoised/' + curr_file, np.array(signals))\n",
        "\n",
        "result = np.array(result)\n",
        "result = pd.DataFrame({'id':result[:,0], 'class':result[:,1]})\n",
        "result.to_csv(directory_result + '/result.csv')"
      ],
      "execution_count": 0,
      "outputs": []
    },
    {
      "cell_type": "code",
      "metadata": {
        "id": "o96y0sTUk5Ff",
        "colab_type": "code",
        "outputId": "da5bb375-4701-4022-ae5c-c98d752701b2",
        "colab": {
          "base_uri": "https://localhost:8080/",
          "height": 238
        }
      },
      "source": [
        "signals[0]\n"
      ],
      "execution_count": 0,
      "outputs": [
        {
          "output_type": "execute_result",
          "data": {
            "text/plain": [
              "array([[ 0.53601253,  0.5166369 ,  0.5117932 , ..., -0.11528199,\n",
              "        -0.11403016, -0.1863984 ],\n",
              "       [ 0.51557004,  0.5034173 ,  0.48616666, ..., -0.10942012,\n",
              "        -0.14916992, -0.19482179],\n",
              "       [ 0.5485771 ,  0.51248306,  0.46705633, ..., -0.12809446,\n",
              "        -0.14818464, -0.1906527 ],\n",
              "       ...,\n",
              "       [ 0.5150783 ,  0.4910716 ,  0.50734407, ..., -0.17790236,\n",
              "        -0.1919307 , -0.2585448 ],\n",
              "       [ 0.51168233,  0.5127557 ,  0.4845567 , ..., -0.16107182,\n",
              "        -0.20467472, -0.23210245],\n",
              "       [ 0.5169717 ,  0.5367661 ,  0.49197665, ..., -0.15959717,\n",
              "        -0.20162193, -0.24758662]], dtype=float32)"
            ]
          },
          "metadata": {
            "tags": []
          },
          "execution_count": 44
        }
      ]
    },
    {
      "cell_type": "code",
      "metadata": {
        "id": "ja1G7OlV-QPe",
        "colab_type": "code",
        "outputId": "d8437ad1-a417-42a2-bbd6-ef15ca92938c",
        "colab": {
          "base_uri": "https://localhost:8080/",
          "height": 238
        }
      },
      "source": [
        "test[0]"
      ],
      "execution_count": 0,
      "outputs": [
        {
          "output_type": "execute_result",
          "data": {
            "text/plain": [
              "array([[ 0.8193  ,  0.894   ,  0.764   , ...,  0.06464 ,  0.0693  ,\n",
              "        -0.03635 ],\n",
              "       [ 0.9004  ,  0.8896  ,  0.791   , ..., -0.00354 ,  0.01195 ,\n",
              "        -0.0827  ],\n",
              "       [ 0.887   ,  0.8364  ,  0.803   , ..., -0.1115  , -0.1282  ,\n",
              "        -0.2499  ],\n",
              "       ...,\n",
              "       [ 0.785   ,  0.8135  ,  0.81    , ...,  0.1342  ,  0.172   ,\n",
              "         0.1184  ],\n",
              "       [ 0.793   ,  0.86    ,  0.832   , ...,  0.0805  ,  0.09576 ,\n",
              "         0.02042 ],\n",
              "       [ 0.872   ,  0.8584  ,  0.8447  , ...,  0.02864 ,  0.001496,\n",
              "        -0.09467 ]], dtype=float16)"
            ]
          },
          "metadata": {
            "tags": []
          },
          "execution_count": 45
        }
      ]
    }
  ]
}