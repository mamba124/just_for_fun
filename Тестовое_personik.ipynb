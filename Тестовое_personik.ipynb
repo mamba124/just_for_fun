{
  "nbformat": 4,
  "nbformat_minor": 0,
  "metadata": {
    "colab": {
      "name": "Тестовое_personik",
      "provenance": [],
      "collapsed_sections": [
        "jKLmfzzwf1Z6",
        "j0tgVl3IpFWH"
      ],
      "toc_visible": true,
      "authorship_tag": "ABX9TyPfz97Rf2OzrR9Qgpkc8DLI",
      "include_colab_link": true
    },
    "kernelspec": {
      "name": "python3",
      "display_name": "Python 3"
    }
  },
  "cells": [
    {
      "cell_type": "markdown",
      "metadata": {
        "id": "view-in-github",
        "colab_type": "text"
      },
      "source": [
        "<a href=\"https://colab.research.google.com/github/mamba124/just_for_fun/blob/master/%D0%A2%D0%B5%D1%81%D1%82%D0%BE%D0%B2%D0%BE%D0%B5_personik.ipynb\" target=\"_parent\"><img src=\"https://colab.research.google.com/assets/colab-badge.svg\" alt=\"Open In Colab\"/></a>"
      ]
    },
    {
      "cell_type": "code",
      "metadata": {
        "id": "nd3L01AfTulG",
        "colab_type": "code",
        "colab": {}
      },
      "source": [
        "import pandas as pd\n",
        "import numpy as np\n",
        "!pip install pymorphy2 \n",
        "import pymorphy2\n",
        "!pip install fasttext\n",
        "import fasttext\n",
        "from sklearn.naive_bayes import CategoricalNB as naive_b\n",
        "from sklearn.metrics import f1_score\n",
        "import keras"
      ],
      "execution_count": null,
      "outputs": []
    },
    {
      "cell_type": "code",
      "metadata": {
        "id": "PkvsQiTsvwcJ",
        "colab_type": "code",
        "colab": {}
      },
      "source": [
        "from sklearn.multiclass import OneVsRestClassifier\n",
        "from sklearn.linear_model import LogisticRegression, RidgeClassifier"
      ],
      "execution_count": null,
      "outputs": []
    },
    {
      "cell_type": "code",
      "metadata": {
        "id": "N9ELYPC9pEN4",
        "colab_type": "code",
        "colab": {}
      },
      "source": [
        "def get_representation(model, texts, mode = 0): # 0 - fasttext, 1 - word2vec\n",
        "    x = [] \n",
        "    tmp = [] \n",
        "    for text in texts: \n",
        "        tmp=[]\n",
        "        for word in text: \n",
        "            if word not in words_pool: representation = np.zeros((100,))\n",
        "            else:\n",
        "                if mode == 0: representation = model.get_word_vector(word)\n",
        "                elif mode == 1: representation = model[word]\n",
        "            tmp.append(representation)      \n",
        "        x.append(tmp)\n",
        "    \n",
        "    return x\n",
        "\n",
        "def extend(words, length, step):\n",
        "    batch =[]\n",
        "    words_len = len(words)\n",
        "    index = 0\n",
        "  \n",
        "    while (index + length <= words_len):\n",
        "        batch.append(words[index:index+length])\n",
        "        index += step\n",
        "\n",
        "    return batch\n",
        "\n",
        "def form_set(X,Y, length, step):\n",
        "    x_ext = []\n",
        "    y_ext = []\n",
        "    for i in range(len(X)):\n",
        "        x_batch = extend(X[i],length, step)\n",
        "        y_batch = [Y[i] for _ in range(len(x_batch))]\n",
        "        x_ext.append(x_batch)\n",
        "        y_ext.append(y_batch)\n",
        "\n",
        "    x_ext = [x for senten in x_ext for x in senten ]\n",
        "    y_ext = [y for senten in y_ext for y in senten ]\n",
        "    return x_ext, y_ext"
      ],
      "execution_count": 317,
      "outputs": []
    },
    {
      "cell_type": "code",
      "metadata": {
        "id": "juCGdFSmUD0Z",
        "colab_type": "code",
        "colab": {}
      },
      "source": [
        "train = pd.read_csv('train.csv')\n",
        "train.head()\n",
        "classes = train['Класс'].unique()\n",
        "classes = np.append(classes, 'OTHER')\n",
        "match = dict(zip(classes,range(len(classes))))\n",
        "train['Класс'] = train['Класс'].replace(match)"
      ],
      "execution_count": null,
      "outputs": []
    },
    {
      "cell_type": "code",
      "metadata": {
        "id": "oDW6gMHhUkVS",
        "colab_type": "code",
        "colab": {
          "base_uri": "https://localhost:8080/",
          "height": 421
        },
        "outputId": "b62a81d9-fd95-4312-9d1d-223331cda399"
      },
      "source": [
        "test = pd.read_csv('test.csv')\n",
        "test.head()\n",
        "match = dict(zip(classes,range(len(classes))))\n",
        "test['Класс'] = test['Класс'].replace(match)\n",
        "test"
      ],
      "execution_count": null,
      "outputs": [
        {
          "output_type": "execute_result",
          "data": {
            "text/html": [
              "<div>\n",
              "<style scoped>\n",
              "    .dataframe tbody tr th:only-of-type {\n",
              "        vertical-align: middle;\n",
              "    }\n",
              "\n",
              "    .dataframe tbody tr th {\n",
              "        vertical-align: top;\n",
              "    }\n",
              "\n",
              "    .dataframe thead th {\n",
              "        text-align: right;\n",
              "    }\n",
              "</style>\n",
              "<table border=\"1\" class=\"dataframe\">\n",
              "  <thead>\n",
              "    <tr style=\"text-align: right;\">\n",
              "      <th></th>\n",
              "      <th>Пример текста</th>\n",
              "      <th>Класс</th>\n",
              "    </tr>\n",
              "  </thead>\n",
              "  <tbody>\n",
              "    <tr>\n",
              "      <th>0</th>\n",
              "      <td>Я хочу сходить в отпуск с 1 по 4 декабря</td>\n",
              "      <td>0</td>\n",
              "    </tr>\n",
              "    <tr>\n",
              "      <th>1</th>\n",
              "      <td>Мне нужен отпуск с понедельника</td>\n",
              "      <td>0</td>\n",
              "    </tr>\n",
              "    <tr>\n",
              "      <th>2</th>\n",
              "      <td>Как мне получить оптуск</td>\n",
              "      <td>0</td>\n",
              "    </tr>\n",
              "    <tr>\n",
              "      <th>3</th>\n",
              "      <td>Я буду отдыхать на следующей неделе</td>\n",
              "      <td>0</td>\n",
              "    </tr>\n",
              "    <tr>\n",
              "      <th>4</th>\n",
              "      <td>Какая у меня была зарплата за прошлый месяц?</td>\n",
              "      <td>1</td>\n",
              "    </tr>\n",
              "    <tr>\n",
              "      <th>5</th>\n",
              "      <td>Сколько я заработал в январе?</td>\n",
              "      <td>1</td>\n",
              "    </tr>\n",
              "    <tr>\n",
              "      <th>6</th>\n",
              "      <td>Пришлите мне рассетный лист</td>\n",
              "      <td>1</td>\n",
              "    </tr>\n",
              "    <tr>\n",
              "      <th>7</th>\n",
              "      <td>Сколько всего мне зраплатят в апреле?</td>\n",
              "      <td>1</td>\n",
              "    </tr>\n",
              "    <tr>\n",
              "      <th>8</th>\n",
              "      <td>Мне нужно взять больничный на пару дней</td>\n",
              "      <td>2</td>\n",
              "    </tr>\n",
              "    <tr>\n",
              "      <th>9</th>\n",
              "      <td>Я хочу сегодня сходить к доктору</td>\n",
              "      <td>2</td>\n",
              "    </tr>\n",
              "    <tr>\n",
              "      <th>10</th>\n",
              "      <td>Не приду сегодня на работу, я заболел</td>\n",
              "      <td>2</td>\n",
              "    </tr>\n",
              "    <tr>\n",
              "      <th>11</th>\n",
              "      <td>Бльничный нужен</td>\n",
              "      <td>2</td>\n",
              "    </tr>\n",
              "  </tbody>\n",
              "</table>\n",
              "</div>"
            ],
            "text/plain": [
              "                                   Пример текста  Класс\n",
              "0       Я хочу сходить в отпуск с 1 по 4 декабря      0\n",
              "1                Мне нужен отпуск с понедельника      0\n",
              "2                        Как мне получить оптуск      0\n",
              "3            Я буду отдыхать на следующей неделе      0\n",
              "4   Какая у меня была зарплата за прошлый месяц?      1\n",
              "5                  Сколько я заработал в январе?      1\n",
              "6                    Пришлите мне рассетный лист      1\n",
              "7          Сколько всего мне зраплатят в апреле?      1\n",
              "8        Мне нужно взять больничный на пару дней      2\n",
              "9               Я хочу сегодня сходить к доктору      2\n",
              "10         Не приду сегодня на работу, я заболел      2\n",
              "11                               Бльничный нужен      2"
            ]
          },
          "metadata": {
            "tags": []
          },
          "execution_count": 83
        }
      ]
    },
    {
      "cell_type": "code",
      "metadata": {
        "id": "X9m6c2aaVnvx",
        "colab_type": "code",
        "colab": {}
      },
      "source": [
        "text_pool = list(map(lambda x: x.split(), train['Пример текста'].values))\n",
        "y_train = keras.utils.to_categorical(train['Класс'].values, 4)\n"
      ],
      "execution_count": 315,
      "outputs": []
    },
    {
      "cell_type": "code",
      "metadata": {
        "id": "ntwLbviRvwcF",
        "colab_type": "code",
        "colab": {}
      },
      "source": [
        "test_pool = list(map(lambda x: x.split(), test['Пример текста'].values))\n",
        "\n",
        "y_test = keras.utils.to_categorical(test['Класс'].values, 4)\n"
      ],
      "execution_count": 288,
      "outputs": []
    },
    {
      "cell_type": "markdown",
      "metadata": {
        "id": "jKLmfzzwf1Z6",
        "colab_type": "text"
      },
      "source": [
        "# FastText"
      ]
    },
    {
      "cell_type": "code",
      "metadata": {
        "id": "Vt3PKW_cgII3",
        "colab_type": "code",
        "colab": {}
      },
      "source": [
        "np.savetxt('train.txt',train['Пример текста'].values, fmt = '%s')\n",
        "modelFAST = fasttext.train_unsupervised('train.txt', model= 'cbow')\n"
      ],
      "execution_count": null,
      "outputs": []
    },
    {
      "cell_type": "code",
      "metadata": {
        "id": "484jXvL4j7Oj",
        "colab_type": "code",
        "colab": {}
      },
      "source": [
        "x_train = get_representation(modelFAST, text_pool, 0)\n",
        "x_test = get_representation(modelFAST, test_pool, 0)"
      ],
      "execution_count": null,
      "outputs": []
    },
    {
      "cell_type": "code",
      "metadata": {
        "id": "Xgz9DBoWuG6Y",
        "colab_type": "code",
        "colab": {}
      },
      "source": [
        "x_train, y_train = form_set(x_train,y_train, 3,1)\n",
        "\n",
        "x_test, y_test = form_set(x_test,y_test, 3,1)"
      ],
      "execution_count": null,
      "outputs": []
    },
    {
      "cell_type": "code",
      "metadata": {
        "id": "tFa4McJ96BCN",
        "colab_type": "code",
        "colab": {}
      },
      "source": [
        "x_train = np.array(x_train).reshape(-1,300)\n",
        "x_test = np.array(x_test).reshape(-1,300)"
      ],
      "execution_count": null,
      "outputs": []
    },
    {
      "cell_type": "code",
      "metadata": {
        "colab_type": "code",
        "id": "ss_LXhOSq9cT",
        "colab": {
          "base_uri": "https://localhost:8080/",
          "height": 52
        },
        "outputId": "20215ffa-a4f5-4030-abed-de7a6a85a5eb"
      },
      "source": [
        "classifier = OneVsRestClassifier(LogisticRegression(max_iter=300)).fit(x_train,y_train)"
      ],
      "execution_count": null,
      "outputs": [
        {
          "output_type": "stream",
          "text": [
            "/usr/local/lib/python3.6/dist-packages/sklearn/multiclass.py:75: UserWarning: Label not 3 is present in all training examples.\n",
            "  str(classes[c]))\n"
          ],
          "name": "stderr"
        }
      ]
    },
    {
      "cell_type": "code",
      "metadata": {
        "colab_type": "code",
        "id": "f2BkRwFTq9ca",
        "colab": {
          "base_uri": "https://localhost:8080/",
          "height": 35
        },
        "outputId": "a691019b-2040-454d-93fa-ddf7fa2b8773"
      },
      "source": [
        "y_pred = classifier.predict(x_test)\n",
        "for i in range(len(y_pred)):\n",
        "    if sum(y_pred[i]) == 0: y_pred[i][-1] = 1  \n",
        "f1 = f1_score\n",
        "print(f1(y_test,y_pred, average = 'weighted'))"
      ],
      "execution_count": null,
      "outputs": [
        {
          "output_type": "stream",
          "text": [
            "0.0\n"
          ],
          "name": "stdout"
        }
      ]
    },
    {
      "cell_type": "markdown",
      "metadata": {
        "id": "j0tgVl3IpFWH",
        "colab_type": "text"
      },
      "source": [
        "# Word2Vec"
      ]
    },
    {
      "cell_type": "code",
      "metadata": {
        "id": "s3INqeJWqgEr",
        "colab_type": "code",
        "colab": {}
      },
      "source": [
        "from gensim.models import word2vec\n",
        "modelGENSIM = word2vec.Word2Vec(text_pool, size = 100, window = 10, min_count=1, workers=10,iter=10)\n"
      ],
      "execution_count": null,
      "outputs": []
    },
    {
      "cell_type": "code",
      "metadata": {
        "colab_type": "code",
        "id": "oSb7aMNz6t0Y",
        "colab": {
          "base_uri": "https://localhost:8080/",
          "height": 72
        },
        "outputId": "e8bc5f24-1067-4ecb-bf41-fe39eda2ec5c"
      },
      "source": [
        "x_train = get_representation(modelGENSIM, text_pool, 1)\n",
        "x_test = get_representation(modelGENSIM, test_pool, 1)"
      ],
      "execution_count": null,
      "outputs": [
        {
          "output_type": "stream",
          "text": [
            "/usr/local/lib/python3.6/dist-packages/ipykernel_launcher.py:10: DeprecationWarning: Call to deprecated `__getitem__` (Method will be removed in 4.0.0, use self.wv.__getitem__() instead).\n",
            "  # Remove the CWD from sys.path while we load stuff.\n"
          ],
          "name": "stderr"
        }
      ]
    },
    {
      "cell_type": "code",
      "metadata": {
        "colab_type": "code",
        "id": "N1k4rRen6t0p",
        "colab": {}
      },
      "source": [
        "x_train, y_train = form_set(x_train,y_train, 3,1)\n",
        "\n",
        "x_test, y_test = form_set(x_test,y_test, 3,1)"
      ],
      "execution_count": null,
      "outputs": []
    },
    {
      "cell_type": "code",
      "metadata": {
        "colab_type": "code",
        "id": "Zj5JevP_6t0y",
        "colab": {}
      },
      "source": [
        "x_train = np.array(x_train).reshape(-1,300)\n",
        "x_test = np.array(x_test).reshape(-1,300)"
      ],
      "execution_count": null,
      "outputs": []
    },
    {
      "cell_type": "code",
      "metadata": {
        "colab_type": "code",
        "id": "yO9_elmJq6ws",
        "colab": {
          "base_uri": "https://localhost:8080/",
          "height": 52
        },
        "outputId": "eb2b0c5f-5d97-4629-a83b-e84b5b4f1e92"
      },
      "source": [
        "classifier = OneVsRestClassifier(RidgeClassifier(max_iter=300,tol = 1e-5, solver = 'saga')).fit(x_train,y_train)"
      ],
      "execution_count": null,
      "outputs": [
        {
          "output_type": "stream",
          "text": [
            "/usr/local/lib/python3.6/dist-packages/sklearn/multiclass.py:75: UserWarning: Label not 3 is present in all training examples.\n",
            "  str(classes[c]))\n"
          ],
          "name": "stderr"
        }
      ]
    },
    {
      "cell_type": "code",
      "metadata": {
        "colab_type": "code",
        "id": "irM5FoPAq6w0",
        "colab": {
          "base_uri": "https://localhost:8080/",
          "height": 90
        },
        "outputId": "70cde2b5-ae51-44e9-96fc-868a82bf2edb"
      },
      "source": [
        "y_pred = classifier.predict(x_test)\n",
        "for i in range(len(y_pred)):\n",
        "    if sum(y_pred[i]) == 0: y_pred[i][-1] = 1  \n",
        "f1 = f1_score\n",
        "print(f1(y_test,y_pred, average = 'weighted'))"
      ],
      "execution_count": null,
      "outputs": [
        {
          "output_type": "stream",
          "text": [
            "0.0\n"
          ],
          "name": "stdout"
        },
        {
          "output_type": "stream",
          "text": [
            "/usr/local/lib/python3.6/dist-packages/sklearn/metrics/_classification.py:1515: UndefinedMetricWarning: F-score is ill-defined and being set to 0.0 in labels with no true nor predicted samples. Use `zero_division` parameter to control this behavior.\n",
            "  average, \"true nor predicted\", 'F-score is', len(true_sum)\n"
          ],
          "name": "stderr"
        }
      ]
    },
    {
      "cell_type": "code",
      "metadata": {
        "id": "svMBmlMl7kNg",
        "colab_type": "code",
        "colab": {
          "base_uri": "https://localhost:8080/",
          "height": 835
        },
        "outputId": "8bb71489-731a-4b02-e9fc-6f3d0b8bc5c5"
      },
      "source": [
        "y_pred"
      ],
      "execution_count": null,
      "outputs": [
        {
          "output_type": "execute_result",
          "data": {
            "text/plain": [
              "array([[0, 0, 0, 1],\n",
              "       [0, 0, 0, 1],\n",
              "       [0, 0, 0, 1],\n",
              "       [0, 0, 0, 1],\n",
              "       [0, 0, 0, 1],\n",
              "       [0, 0, 0, 1],\n",
              "       [0, 0, 0, 1],\n",
              "       [0, 0, 0, 1],\n",
              "       [0, 0, 0, 1],\n",
              "       [0, 0, 0, 1],\n",
              "       [0, 0, 0, 1],\n",
              "       [0, 0, 0, 1],\n",
              "       [0, 0, 0, 1],\n",
              "       [0, 0, 0, 1],\n",
              "       [0, 0, 0, 1],\n",
              "       [0, 0, 0, 1],\n",
              "       [0, 0, 0, 1],\n",
              "       [0, 0, 0, 1],\n",
              "       [0, 0, 0, 1],\n",
              "       [0, 0, 0, 1],\n",
              "       [0, 0, 0, 1],\n",
              "       [0, 0, 0, 1],\n",
              "       [0, 0, 0, 1],\n",
              "       [0, 0, 0, 1],\n",
              "       [0, 0, 0, 1],\n",
              "       [0, 0, 0, 1],\n",
              "       [0, 0, 0, 1],\n",
              "       [0, 0, 0, 1],\n",
              "       [0, 0, 0, 1],\n",
              "       [0, 0, 0, 1],\n",
              "       [0, 0, 0, 1],\n",
              "       [0, 0, 0, 1],\n",
              "       [0, 0, 0, 1],\n",
              "       [0, 0, 0, 1],\n",
              "       [0, 0, 0, 1],\n",
              "       [0, 0, 0, 1],\n",
              "       [0, 0, 0, 1],\n",
              "       [0, 0, 0, 1],\n",
              "       [0, 0, 0, 1],\n",
              "       [0, 0, 0, 1],\n",
              "       [0, 0, 0, 1],\n",
              "       [0, 0, 0, 1],\n",
              "       [0, 0, 0, 1],\n",
              "       [0, 0, 0, 1],\n",
              "       [0, 0, 0, 1],\n",
              "       [0, 0, 0, 1]])"
            ]
          },
          "metadata": {
            "tags": []
          },
          "execution_count": 327
        }
      ]
    },
    {
      "cell_type": "markdown",
      "metadata": {
        "id": "Yoizh4SCYGwn",
        "colab_type": "text"
      },
      "source": [
        "# PyMorphy + One Hot"
      ]
    },
    {
      "cell_type": "code",
      "metadata": {
        "id": "kxcDQ_9tYKIp",
        "colab_type": "code",
        "colab": {
          "base_uri": "https://localhost:8080/",
          "height": 71
        },
        "outputId": "0cb21f77-8fb8-4986-f25d-c71a34ea9a00"
      },
      "source": [
        "morph = pymorphy2.MorphAnalyzer()\n",
        "text_pool = [[morph.parse(word)[0].normal_form  for word in sentence]for sentence in text_pool]\n",
        "words_pool = [word for sentence in text_pool for word in sentence]\n",
        "words_pool = list(set(words_pool))\n",
        "\n",
        "print(text_pool)\n",
        "print(words_pool)\n",
        "\n",
        "word2index = dict(zip(words_pool,range(len(words_pool))))\n",
        "bow = []\n",
        "for sent in text_pool:\n",
        "    tmp = np.zeros((len(words_pool)+1,))\n",
        "    for word in sent:\n",
        "        tmp[word2index[word]] = 1\n",
        "    bow.append(tmp)\n",
        "\n",
        "x_train = np.array(bow)"
      ],
      "execution_count": null,
      "outputs": [
        {
          "output_type": "stream",
          "text": [
            "[['хотеть', 'в', 'отпуск'], ['я', 'бы', 'в', 'отдохнуть'], ['как', 'я', 'взять', 'отпуск'], ['хотеть', 'отгул', 'на', 'следующий', 'неделя'], ['хотеть', 'улететь', 'в', 'турция'], ['нужно', 'два', 'день', 'отпуск', 'на', 'следующий', 'неделя'], ['уйти', 'в', 'отпуск', 'в', 'октябрь'], ['можно', 'я', 'отдохнуть'], ['я', 'нужно', 'взять', 'пара', 'день', 'выходной'], ['я', 'очень', 'хотеть', 'отдохнуть'], ['сколько', 'я', 'заработать'], ['какой', 'у', 'я', 'зарплата', 'за', 'март'], ['сколько', 'я', 'заплатить', 'в', 'это', 'месяц'], ['почему', 'я', 'заплатить', 'так', 'мало'], ['сколько', 'я', 'перевести', 'деньга'], ['когда', 'прийти', 'зарплата'], ['посмотреть', 'расчётный', 'листок'], ['где', 'взять', 'расчётный', 'лист'], ['когда', 'я', 'заплатить'], ['когда', 'заплатить', 'зарплата'], ['дать', 'ли', 'я', 'зарплата'], ['я', 'заболеть'], ['горло', 'болеть'], ['у', 'я', 'температура'], ['я', 'нужно', 'к', 'врач'], ['хотеть', 'взять', 'больничный'], ['можно', 'я', 'не', 'пойти', 'на', 'работа'], ['плохо', 'себя', 'чувствовать'], ['очень', 'болеть', 'голова'], ['я', 'пойти', 'в', 'доктор'], ['я', 'нужно', 'посетить', 'врач'], ['как', 'я', 'получить', 'больничный']]\n",
            "['заплатить', 'отдохнуть', 'перевести', 'себя', 'взять', 'зарплата', 'можно', 'посетить', 'хотеть', 'турция', 'где', 'неделя', 'врач', 'чувствовать', 'март', 'получить', 'мало', 'ли', 'месяц', 'температура', 'отпуск', 'листок', 'дать', 'горло', 'больничный', 'день', 'какой', 'деньга', 'я', 'очень', 'к', 'работа', 'нужно', 'за', 'бы', 'лист', 'уйти', 'голова', 'посмотреть', 'у', 'заработать', 'два', 'когда', 'как', 'болеть', 'сколько', 'почему', 'так', 'пара', 'октябрь', 'пойти', 'плохо', 'на', 'это', 'заболеть', 'следующий', 'выходной', 'не', 'улететь', 'расчётный', 'в', 'отгул', 'прийти', 'доктор']\n"
          ],
          "name": "stdout"
        }
      ]
    },
    {
      "cell_type": "code",
      "metadata": {
        "id": "6XnJkG_6__E-",
        "colab_type": "code",
        "colab": {
          "base_uri": "https://localhost:8080/",
          "height": 71
        },
        "outputId": "f978360b-b633-443b-c689-2319b7f0dc06"
      },
      "source": [
        "test_pool = [[morph.parse(word)[0].normal_form  for word in sentence]for sentence in test_pool]\n",
        "test_words_pool = [word for sentence in test_pool for word in sentence]\n",
        "test_words_pool = list(set(test_words_pool))\n",
        "\n",
        "print(test_pool)\n",
        "print(test_words_pool)\n",
        "\n",
        "bow = []\n",
        "for sent in test_pool:\n",
        "    tmp = np.zeros((len(words_pool)+1,))\n",
        "    for word in sent:\n",
        "        if word not in words_pool: tmp[-1] = 1\n",
        "        else: tmp[word2index[word]] = 1\n",
        "    bow.append(tmp)\n",
        "\n",
        "x_test = np.array(bow)"
      ],
      "execution_count": null,
      "outputs": [
        {
          "output_type": "stream",
          "text": [
            "[['я', 'хотеть', 'сходить', 'в', 'отпуск', 'с', '1', 'по', '4', 'декабрь'], ['я', 'нужный', 'отпуск', 'с', 'понедельник'], ['как', 'я', 'получить', 'оптускнуть'], ['я', 'быть', 'отдыхать', 'на', 'следующий', 'неделя'], ['какой', 'у', 'я', 'быть', 'зарплата', 'за', 'прошлый', 'месяц?'], ['сколько', 'я', 'заработать', 'в', 'январе?'], ['прислать', 'я', 'рассетный', 'лист'], ['сколько', 'всего', 'я', 'зраплатить', 'в', 'апреле?'], ['я', 'нужно', 'взять', 'больничный', 'на', 'пара', 'день'], ['я', 'хотеть', 'сегодня', 'сходить', 'к', 'доктор'], ['не', 'прийти', 'сегодня', 'на', 'работу,', 'я', 'заболеть'], ['бльничный', 'нужный']]\n",
            "['апреле?', 'взять', '4', 'зарплата', 'прошлый', 'месяц?', 'хотеть', 'неделя', 'зраплатить', 'получить', 'оптускнуть', 'отпуск', 'больничный', 'день', 'какой', 'рассетный', 'я', 'к', 'нужный', 'за', 'лист', 'январе?', 'нужно', 'прийти', 'у', 'заработать', 'прислать', 'как', 'сколько', 'по', '1', 'работу,', 'пара', 'декабрь', 'с', 'понедельник', 'сходить', 'быть', 'на', 'заболеть', 'следующий', 'не', 'бльничный', 'всего', 'в', 'сегодня', 'отдыхать', 'доктор']\n"
          ],
          "name": "stdout"
        }
      ]
    },
    {
      "cell_type": "code",
      "metadata": {
        "id": "Y71hvPY6-vAl",
        "colab_type": "code",
        "colab": {
          "base_uri": "https://localhost:8080/",
          "height": 51
        },
        "outputId": "517c8300-9e8d-4cae-ac21-7e13fd71c8f8"
      },
      "source": [
        "classifier = OneVsRestClassifier(RidgeClassifier(max_iter=300,tol = 1e-5, solver = 'svd')).fit(x_train,y_train)"
      ],
      "execution_count": null,
      "outputs": [
        {
          "output_type": "stream",
          "text": [
            "/usr/local/lib/python3.6/dist-packages/sklearn/multiclass.py:75: UserWarning: Label not 3 is present in all training examples.\n",
            "  str(classes[c]))\n"
          ],
          "name": "stderr"
        }
      ]
    },
    {
      "cell_type": "code",
      "metadata": {
        "id": "Xh-vSZpTvwcn",
        "colab_type": "code",
        "colab": {
          "base_uri": "https://localhost:8080/",
          "height": 34
        },
        "outputId": "4aecddbd-9f06-48cd-abd8-da00d39080f3"
      },
      "source": [
        "y_pred = classifier.predict(x_test)\n",
        "for i in range(len(y_pred)):\n",
        "    if sum(y_pred[i]) == 0: y_pred[i][-1] = 1  \n",
        "f1 = f1_score\n",
        "print(f1(y_test,y_pred, average = 'weighted'))"
      ],
      "execution_count": null,
      "outputs": [
        {
          "output_type": "stream",
          "text": [
            "0.8677248677248678\n"
          ],
          "name": "stdout"
        }
      ]
    },
    {
      "cell_type": "markdown",
      "metadata": {
        "id": "If77ZS328Ulx",
        "colab_type": "text"
      },
      "source": [
        "# PyMorphy + TFidfVectorizer"
      ]
    },
    {
      "cell_type": "code",
      "metadata": {
        "id": "wd3Pydyjvwbl",
        "colab_type": "code",
        "colab": {}
      },
      "source": [
        "from sklearn.feature_extraction.text import TfidfVectorizer"
      ],
      "execution_count": null,
      "outputs": []
    },
    {
      "cell_type": "code",
      "metadata": {
        "id": "SuvT0942vwbp",
        "colab_type": "code",
        "colab": {}
      },
      "source": [
        "def tfidf_features(X_train, X_val, X_test):\n",
        "    \"\"\"\n",
        "        X_train, X_val, X_test — samples        \n",
        "        return TF-IDF vectorized representation of each sample and vocabulary\n",
        "    \"\"\"\n",
        "    # Create TF-IDF vectorizer with a proper parameters choice\n",
        "    # Fit the vectorizer on the train set\n",
        "    # Transform the train, test, and val sets and return the result\n",
        "    \n",
        "    \n",
        "    tfidf_vectorizer = TfidfVectorizer(token_pattern='(\\S+)',ngram_range= (1,2), max_df = 0.9, min_df = 5/len(X_train))####### YOUR CODE HERE #######\n",
        "    tfidf_vectorizer.fit(X_train)\n",
        "    X_train = tfidf_vectorizer.transform(X_train)\n",
        "    X_val = tfidf_vectorizer.transform(X_val)\n",
        "    X_test = tfidf_vectorizer.transform(X_test)\n",
        "    \n",
        "    ######################################\n",
        "    ######### YOUR CODE HERE #############\n",
        "    ######################################\n",
        "    \n",
        "    return X_train, X_val, X_test, tfidf_vectorizer.vocabulary_"
      ],
      "execution_count": null,
      "outputs": []
    },
    {
      "cell_type": "code",
      "metadata": {
        "id": "P895LEDpvwbu",
        "colab_type": "code",
        "colab": {}
      },
      "source": [
        "X_train_tfidf, X_val_tfidf, X_test_tfidf, tfidf_vocab = tfidf_features(X_train, X_val, X_test)\n",
        "tfidf_reversed_vocab = {i:word for word,i in tfidf_vocab.items()}"
      ],
      "execution_count": null,
      "outputs": []
    }
  ]
}